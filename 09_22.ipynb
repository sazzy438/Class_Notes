{
  "nbformat": 4,
  "nbformat_minor": 0,
  "metadata": {
    "colab": {
      "provenance": []
    },
    "kernelspec": {
      "name": "python3",
      "display_name": "Python 3"
    },
    "language_info": {
      "name": "python"
    }
  },
  "cells": [
    {
      "cell_type": "code",
      "execution_count": null,
      "metadata": {
        "id": "gHWL_IokK1Ni",
        "colab": {
          "base_uri": "https://localhost:8080/"
        },
        "outputId": "665bf880-edc2-4188-d9c2-7367b4cc03d4"
      },
      "outputs": [
        {
          "output_type": "stream",
          "name": "stdout",
          "text": [
            "Hello World\n"
          ]
        }
      ],
      "source": [
        "print (\"Hello World\")"
      ]
    },
    {
      "cell_type": "code",
      "source": [
        "# when a word begins with a lowercase letter, Python interprets it\n",
        "# as a variable or a function\n",
        "# A function call always has brackets () after the function name\n",
        "\n",
        "# A function performs some specific task depending on the function name\n",
        "# The print function displays whatever is inside the brackets"
      ],
      "metadata": {
        "id": "gZGrJocivwUK"
      },
      "execution_count": null,
      "outputs": []
    },
    {
      "cell_type": "code",
      "source": [
        "# Quotation marks ' \" ''' \"\"\" denote the start and end of strings\n",
        "# String: a sequence of symbols for which Python doesn't consider\n",
        "# any special meaning"
      ],
      "metadata": {
        "id": "afN9SqjVwX1S"
      },
      "execution_count": null,
      "outputs": []
    },
    {
      "cell_type": "code",
      "source": [
        "print (17)\n",
        "print (\"17\")\n",
        "print (1.7)\n",
        "print (1.0)\n",
        "print (1.)\n",
        "print (1e7)   # 1 * 10^7\n",
        "print (6.022e23)"
      ],
      "metadata": {
        "colab": {
          "base_uri": "https://localhost:8080/"
        },
        "id": "8dxYwo-BxBmC",
        "outputId": "82d690c6-8d6e-485f-9a89-22fbabd454b0"
      },
      "execution_count": null,
      "outputs": [
        {
          "output_type": "stream",
          "name": "stdout",
          "text": [
            "17\n",
            "17\n",
            "1.7\n",
            "1.0\n",
            "1.0\n",
            "10000000.0\n",
            "6.022e+23\n"
          ]
        }
      ]
    },
    {
      "cell_type": "code",
      "source": [
        "# when a word begins with a digit, Python will interprets it as\n",
        "# a number\n",
        "# There are several types of numbers. The most common ones in Python\n",
        "# are int and float\n",
        "# int: integer (whole numbers), recognized by having no characters except\n",
        "# the digits\n",
        "# float: floating-point numbers (not necessarily whole numbers), recognized\n",
        "# by the presence of special characters that represent float like . and e"
      ],
      "metadata": {
        "id": "sM2Uz-iJxKPo"
      },
      "execution_count": null,
      "outputs": []
    },
    {
      "cell_type": "code",
      "source": [
        "# when a word begins with a special character (except _), Python\n",
        "# interprets it as an operation"
      ],
      "metadata": {
        "id": "lM2iy2axz9oN"
      },
      "execution_count": null,
      "outputs": []
    },
    {
      "cell_type": "code",
      "source": [
        "# Arithmetic Operations\n",
        "print (17 + 8)  # addition\n",
        "print (17 - 8)  # subtraction\n",
        "print (17 * 8)  # multiplication\n",
        "print (2 ** 8)  # power\n",
        "\n",
        "# For addition, multiplication, subtraction, and power, if both values\n",
        "# are int, then the result is also int\n",
        "# but if any one value is float, then the result is also float\n",
        "\n",
        "print (1.7 + 8)\n",
        "print (2.5 + 1.5)\n",
        "print (2.5 * 4)\n",
        "\n",
        "# There are two types of division in Python\n",
        "print (17 / 2)    # 8.5\n",
        "\n",
        "# with /, the result is always a float even if both operands are int\n",
        "# and even if the answer is a whole number\n",
        "print (10 / 2)    # 5.0\n",
        "\n",
        "print (17 // 2)   # floor division\n",
        "# when dividing using //, Python computes the floor of the division result\n",
        "# floor = if the number is not an integer, then decrease it to the nearest int\n",
        "\n",
        "print (-17 / 5)\n",
        "print (-17 // 5)  # -3.4? -3? -4?"
      ],
      "metadata": {
        "colab": {
          "base_uri": "https://localhost:8080/"
        },
        "id": "421CW30oz4kn",
        "outputId": "d41327f2-028f-436e-fe13-d9ec502e7957"
      },
      "execution_count": null,
      "outputs": [
        {
          "output_type": "stream",
          "name": "stdout",
          "text": [
            "25\n",
            "9\n",
            "136\n",
            "256\n",
            "9.7\n",
            "4.0\n",
            "10.0\n",
            "8.5\n",
            "5.0\n",
            "8\n",
            "-3.4\n",
            "-4\n"
          ]
        }
      ]
    },
    {
      "cell_type": "code",
      "source": [
        "print (17 // 5)\n",
        "print (17 % 5)    # the remainder of the division\n",
        "\n",
        "# Given integers n and d, it is always possible to write\n",
        "# n = qd + r for integers q and r with 0 <= r < d\n",
        "# q = n // d\n",
        "# r = n % d"
      ],
      "metadata": {
        "colab": {
          "base_uri": "https://localhost:8080/"
        },
        "id": "aT6AV2E_3Hmv",
        "outputId": "0dbddd7b-2e57-4bf7-89c2-4aa525d65571"
      },
      "execution_count": null,
      "outputs": [
        {
          "output_type": "stream",
          "name": "stdout",
          "text": [
            "3\n",
            "2\n"
          ]
        }
      ]
    },
    {
      "cell_type": "code",
      "source": [
        "# + and - can also be used as unary operators (i.e., acting on only\n",
        "# one value)\n",
        "\n",
        "print (-5)\n",
        "print (+5)\n",
        "print (--5)\n",
        "print (--+--++--+--+--+-+--7)"
      ],
      "metadata": {
        "colab": {
          "base_uri": "https://localhost:8080/"
        },
        "id": "RXMOBr7b46Sz",
        "outputId": "0abed85e-6f31-40b7-b238-0365617c351b"
      },
      "execution_count": null,
      "outputs": [
        {
          "output_type": "stream",
          "name": "stdout",
          "text": [
            "-5\n",
            "5\n",
            "5\n",
            "-7\n"
          ]
        }
      ]
    },
    {
      "cell_type": "code",
      "source": [
        "print (\"hello\" + \"world\")\n",
        "print (\"17\" + \"5\")\n",
        "#print (\"17\" + 5)   # TypeError\n",
        "print (3 * \"hello\")\n",
        "print (\"world\" * 5)\n",
        "#print (3.0 * \"hello\")    # TypeError\n",
        "#print (\"hello\" * \"world\")  # TypeError"
      ],
      "metadata": {
        "colab": {
          "base_uri": "https://localhost:8080/"
        },
        "id": "EvSyipPi5qDL",
        "outputId": "46fdc6eb-8f57-4fef-ebcc-9a31e74a515c"
      },
      "execution_count": null,
      "outputs": [
        {
          "output_type": "stream",
          "name": "stdout",
          "text": [
            "helloworld\n",
            "175\n",
            "hellohellohello\n",
            "worldworldworldworldworld\n"
          ]
        }
      ]
    },
    {
      "cell_type": "code",
      "source": [
        "# A variable is a name for a memory location that contains a value\n",
        "# It is useful for referring to this value in the future\n",
        "\n",
        "# we can create variables using the assignment = operator\n",
        "# the left side of = MUST be a variable name AND NOTHING ELSE\n",
        "# this variable will be assigned whatever value is computed in the right side\n",
        "\n",
        "x = 12\n",
        "\n",
        "# If we mention a variable in any context except as the left side of =\n",
        "# then we can replace it with its current value\n",
        "\n",
        "print (x)\n",
        "print (x + 4)\n",
        "\n",
        "#12 = y   # SyntaxError\n",
        "#y + 1 = 13   # SyntaxError\n",
        "\n",
        "# Variable Names MUST begin with a lowercase letter (there are exceptions),\n",
        "# and be composed only of letters (uppercase/lowercase), digits and/or underscore\n",
        "x2 = 45\n",
        "x_3 = 17\n",
        "\n",
        "#1x = 23    # SyntaxError"
      ],
      "metadata": {
        "colab": {
          "base_uri": "https://localhost:8080/"
        },
        "id": "upEU8yjV58yp",
        "outputId": "c8623b6d-0197-450e-a447-1663e082dd63"
      },
      "execution_count": null,
      "outputs": [
        {
          "output_type": "stream",
          "name": "stdout",
          "text": [
            "12\n",
            "16\n"
          ]
        }
      ]
    },
    {
      "cell_type": "code",
      "source": [
        "# For simple types like int and string, variables are independent of each\n",
        "# other\n",
        "# This is an important point that we will revisit later\n",
        "\n",
        "a = 5\n",
        "b = a + 2\n",
        "print (a, b)    # 5 7\n",
        "a = 10\n",
        "print (a, b)    # 10 7\n",
        "b = a + 2\n",
        "print (a, b)    # 10 12"
      ],
      "metadata": {
        "colab": {
          "base_uri": "https://localhost:8080/"
        },
        "id": "T2amAtuK7yjo",
        "outputId": "4bae3975-1e88-4ee8-dd82-2617b9b374c7"
      },
      "execution_count": null,
      "outputs": [
        {
          "output_type": "stream",
          "name": "stdout",
          "text": [
            "5 7\n",
            "10 7\n",
            "10 12\n"
          ]
        }
      ]
    },
    {
      "cell_type": "code",
      "source": [
        "print (12, 14, 33)\n",
        "print (12, \"hello\", 88)"
      ],
      "metadata": {
        "id": "3ifyLQJp-D9m",
        "outputId": "7b21e360-a01e-4cde-bba0-9ea982a86e8b",
        "colab": {
          "base_uri": "https://localhost:8080/"
        }
      },
      "execution_count": null,
      "outputs": [
        {
          "output_type": "stream",
          "name": "stdout",
          "text": [
            "12 14 33\n",
            "12 hello 88\n"
          ]
        }
      ]
    }
  ]
}