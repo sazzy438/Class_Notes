{
  "nbformat": 4,
  "nbformat_minor": 0,
  "metadata": {
    "colab": {
      "provenance": []
    },
    "kernelspec": {
      "name": "python3",
      "display_name": "Python 3"
    },
    "language_info": {
      "name": "python"
    }
  },
  "cells": [
    {
      "cell_type": "code",
      "execution_count": null,
      "metadata": {
        "colab": {
          "base_uri": "https://localhost:8080/"
        },
        "id": "FHVe4ng9b21_",
        "outputId": "973e082f-0e01-45d2-ba7e-53deecb1b28c"
      },
      "outputs": [
        {
          "output_type": "stream",
          "name": "stdout",
          "text": [
            "[12, 56, 47, 89]\n",
            "[12, 56, 47, 89]\n",
            "[42]\n",
            "[]\n",
            "[12, 87, 1, 2, 3]\n",
            "['a', 'b', 'c', 'a', 'b', 'c', 'a', 'b', 'c', 'a', 'b', 'c', 'a', 'b', 'c']\n"
          ]
        }
      ],
      "source": [
        "# list type can store multiple elements as a single value\n",
        "# Python identifies lists through square brackets [], with\n",
        "# elements separated by commas\n",
        "\n",
        "print ([12, 56, 47, 89])\n",
        "lst1 = [12, 56, 47, 89]\n",
        "print (lst1)\n",
        "lst2 = [42]\n",
        "print (lst2)\n",
        "lst3 = []\n",
        "print (lst3)\n",
        "\n",
        "# String Operations can also be applied to lists\n",
        "\n",
        "print ([12, 87] + [1, 2, 3])\n",
        "print (5 * ['a', 'b', 'c'])\n",
        "lst4 = [12, \"hello\"]"
      ]
    },
    {
      "cell_type": "code",
      "source": [
        "# Another popular type for storing multiple values is the tuple\n",
        "# Tuples are denoted by values separated by commas\n",
        "# without any square brackets, but you can have round brackets\n",
        "\n",
        "tp1 = (12, 54, 86)\n",
        "print (tp1)\n",
        "tp2 = (12, \"hello\")\n",
        "print (tp2)\n",
        "tp3 = (12, 53) * 3\n",
        "print (tp3)\n",
        "tp4 = (1, 2, 3) + (\"hello\", \"world\")\n",
        "print (tp4)\n",
        "tp5 = 42, 47, 63\n",
        "print (tp5)\n",
        "print (5 * (2 + 3) - 7)\n",
        "tp6 = (15)\n",
        "print (tp6)\n",
        "\n",
        "# Tuples are simpler and more efficient than lists, but\n",
        "# you can do more things with lists than with tuples\n",
        "\n",
        "# Tuples are typically used in situations where the number\n",
        "# of elements are fixed, and each position has unique significance\n",
        "\n",
        "# For example, if I want to represent multiple students, I can\n",
        "# prepare a list of students. But for each student, if I want to\n",
        "# store both the ID and the name, I should use a tuple of the\n",
        "# form (ID, name).\n",
        "\n",
        "listofstudents = [(123, \"Harry\"), (124, \"Ron\"), (125, \"Hermione\")]\n",
        "print (listofstudents)"
      ],
      "metadata": {
        "colab": {
          "base_uri": "https://localhost:8080/"
        },
        "id": "GgYvUOLFfreO",
        "outputId": "a4270eb4-785d-42b8-a130-9dddaff78925"
      },
      "execution_count": null,
      "outputs": [
        {
          "output_type": "stream",
          "name": "stdout",
          "text": [
            "(12, 54, 86)\n",
            "(12, 'hello')\n",
            "(12, 53, 12, 53, 12, 53)\n",
            "(1, 2, 3, 'hello', 'world')\n",
            "(42, 47, 63)\n",
            "18\n",
            "15\n",
            "[(123, 'Harry'), (124, 'Ron'), (125, 'Hermione')]\n"
          ]
        }
      ]
    },
    {
      "cell_type": "code",
      "source": [
        "# Indexing\n",
        "# After a list, we can use square brackets [] with a single integer\n",
        "# inside (known as index) to access a specific element\n",
        "# The index specifies how many steps to take from the first element\n",
        "\n",
        "lst = [42, 56, 89, 74]\n",
        "print (lst[2])    # 89\n",
        "print (lst[0])    # 42\n",
        "#print (lst[4])    # IndexError\n",
        "print (lst[-1])   # 74\n",
        "print (lst[-3])   # 56\n",
        "print (lst[-4])   # 42\n",
        "#print (lst[-5])   # IndexError\n",
        "\n",
        "# In general, a list with N elements can be indexed from\n",
        "# -N to N-1\n",
        "\n",
        "# Indexing can also be done with tuples and strings (and some other\n",
        "# Python collections) in the same manner, with []\n",
        "\n",
        "s = \"python\"\n",
        "print (s[2])    # t\n",
        "tp = (12, 56, 78)\n",
        "print (tp[1])   # 56\n",
        "\n",
        "print ([14, 87, 63, 19][2])   # 63\n",
        "print ([42][0])   # 42\n",
        "#print ([75][0][1])  # TypeError\n",
        "print ([\"hello\", \"world\"][0][1])   # e\n",
        "print ([\"hello\"][0][1])   # e\n",
        "print ([\"hello\", \"world\"][1][0])   # w\n",
        "print ((\"hello\", \"world\")[1][0])   # w"
      ],
      "metadata": {
        "colab": {
          "base_uri": "https://localhost:8080/"
        },
        "id": "0JkSAuYEjDSy",
        "outputId": "51cbe2e1-e098-4640-cf96-247becf0704b"
      },
      "execution_count": null,
      "outputs": [
        {
          "output_type": "stream",
          "name": "stdout",
          "text": [
            "89\n",
            "42\n",
            "74\n",
            "56\n",
            "42\n",
            "t\n",
            "56\n",
            "63\n",
            "42\n",
            "e\n",
            "e\n",
            "w\n",
            "w\n"
          ]
        }
      ]
    },
    {
      "cell_type": "code",
      "source": [
        "# In a list, you can modify individual elements\n",
        "# This is NOT allowed for tuples or strings\n",
        "\n",
        "lst = [12, 45, 63, 78]\n",
        "lst[1] = 77\n",
        "print (lst)\n",
        "\n",
        "tp = (12, 45, 63, 78)\n",
        "#tp[1] = 77     # TypeError\n",
        "\n",
        "s = \"python\"\n",
        "#s[1] = 'e'     # TypeError\n",
        "lst = [\"python\", \"hello\", \"world\"]\n",
        "# lst[0][1] = 'e'   # TypeError\n",
        "lst[0] = 'e'\n",
        "print (lst)\n",
        "lst[0] = \"pethon\"   # if you really want to change that second letter to e"
      ],
      "metadata": {
        "colab": {
          "base_uri": "https://localhost:8080/"
        },
        "id": "Le9F0Jyzn8x2",
        "outputId": "bb0fb130-cdb8-4add-afe8-123b6d9f28fa"
      },
      "execution_count": null,
      "outputs": [
        {
          "output_type": "stream",
          "name": "stdout",
          "text": [
            "[12, 77, 63, 78]\n",
            "['e', 'hello', 'world']\n"
          ]
        }
      ]
    },
    {
      "cell_type": "code",
      "source": [
        "# Slicing\n",
        "# we can \"slice off\" parts of a string (or list) by adding a colon\n",
        "# inside the index\n",
        "# with the format stringname[START:STOP]\n",
        "# where we take elements, starting from index START\n",
        "# until we cross index STOP\n",
        "# We do NOT take the element that crosses index STOP\n",
        "\n",
        "# we can also leave START and/or STOP blank to denote\n",
        "# a boundary of the list\n",
        "\n",
        "#   -9876543210987654321\n",
        "#   +0123456789012345678\n",
        "s = \"sajedimtenanulhaque\"\n",
        "print (s[4:7])    # dim\n",
        "print (s[9:-6])   # nanu\n",
        "print (s[-12:-9]) # ten\n",
        "print (s[9:-10])  # [empty string]\n",
        "print (s[13:-8])  # [empty string]\n",
        "print (s[16:])    # que\n",
        "print (s[:3])     # saj\n",
        "print (s[:-12])   # sajedim\n",
        "print (s[:])      # sajedimtenanulhaque\n",
        "# Is there every any point in using [:]? Yes, but we'll cover that later"
      ],
      "metadata": {
        "colab": {
          "base_uri": "https://localhost:8080/"
        },
        "id": "3GWGa_B1oy2A",
        "outputId": "94caf959-a2a4-4773-a76e-066bff6f39fa"
      },
      "execution_count": null,
      "outputs": [
        {
          "output_type": "stream",
          "name": "stdout",
          "text": [
            "dim\n",
            "nanu\n",
            "ten\n",
            "\n",
            "\n",
            "que\n",
            "saj\n",
            "sajedim\n",
            "sajedimtenanulhaque\n"
          ]
        }
      ]
    },
    {
      "cell_type": "code",
      "source": [
        "# We can also modify the step by adding a second colon, with\n",
        "# the format [START:STOP:STEP]\n",
        "\n",
        "#   -9876543210987654321\n",
        "#   +0123456789012345678\n",
        "s = \"sajedimtenanulhaque\"\n",
        "\n",
        "print (s[4:8:2])    # dm\n",
        "print (s[2:6:3])    # ji\n",
        "print (s[-8::4])    # na\n",
        "print (s[:7:2])     # sjdm\n",
        "print (s[::8])      # seq\n",
        "print (s[9:3:-4])   # ni\n",
        "print (s[:12:-3])   # ea\n",
        "print (s[::-1])     # euqahlunanetmidejas\n",
        "\n",
        "# All of this slicing applies to lists and tuples as well!"
      ],
      "metadata": {
        "colab": {
          "base_uri": "https://localhost:8080/"
        },
        "id": "r86Xf529uGaZ",
        "outputId": "7a81859a-7ec3-45cc-9dd4-9ffd322af1e1"
      },
      "execution_count": null,
      "outputs": [
        {
          "output_type": "stream",
          "name": "stdout",
          "text": [
            "dm\n",
            "ji\n",
            "na\n",
            "sjdm\n",
            "seq\n",
            "ni\n",
            "ea\n",
            "euqahlunanetmidejas\n"
          ]
        }
      ]
    }
  ]
}