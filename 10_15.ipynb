{
  "nbformat": 4,
  "nbformat_minor": 0,
  "metadata": {
    "colab": {
      "provenance": [],
      "include_colab_link": true
    },
    "kernelspec": {
      "name": "python3",
      "display_name": "Python 3"
    },
    "language_info": {
      "name": "python"
    }
  },
  "cells": [
    {
      "cell_type": "markdown",
      "metadata": {
        "id": "view-in-github",
        "colab_type": "text"
      },
      "source": [
        "<a href=\"https://colab.research.google.com/github/sazzy438/Class_Notes/blob/main/10_15.ipynb\" target=\"_parent\"><img src=\"https://colab.research.google.com/assets/colab-badge.svg\" alt=\"Open In Colab\"/></a>"
      ]
    },
    {
      "cell_type": "code",
      "execution_count": null,
      "metadata": {
        "id": "MJLVBbtxmTYg"
      },
      "outputs": [],
      "source": [
        "class SLLNode:\n",
        "  def __init__ (self, dt, nx = None):\n",
        "    self.data = dt\n",
        "    self.next = nx\n",
        "\n",
        "class SinglyLinkedListWithTail:\n",
        "  def __init__ (self):\n",
        "    self.head = None    # Mandatory Field\n",
        "    self.tail = None    # Optional, but adding this improves the LL significantly\n",
        "    # tail refers to the LAST node of the LL\n",
        "    # if the LL is empty, then tail is None (just like head)\n",
        "    self.size = 0       # Optional, but allows us to easily determine LL size\n",
        "\n",
        "  def appendleft (self, x):\n",
        "    if self.head == None:\n",
        "      newnd = SLLNode (x)\n",
        "      self.head = newnd\n",
        "      self.tail = newnd   # newnd is both the first AND last node now\n",
        "    else:         # no change for the non-empty case\n",
        "      newnd = SLLNode (x)\n",
        "      newnd.next = self.head\n",
        "      self.head = newnd\n",
        "    self.size += 1    # update size\n",
        "\n",
        "  def popleft (self):\n",
        "    self.head = self.head.next\n",
        "    if self.head == None:   # if the LL became empty\n",
        "      self.tail = None      # tail should also be None\n",
        "    self.size -= 1    # update size\n",
        "\n",
        "  def appendafter (self, nd, x):\n",
        "    newnd = SLLNode (x)\n",
        "    newnd.next = nd.next\n",
        "    nd.next = newnd\n",
        "\n",
        "    if newnd.next == None:    # if the new node becomes the last node\n",
        "      self.tail = newnd       # update tail\n",
        "\n",
        "    self.size += 1    # update size\n",
        "\n",
        "  def popafter (self, nd):\n",
        "    nd.next = nd.next.next\n",
        "    if nd.next == None:       # if nd becomes the last node\n",
        "      self.tail = nd          # update tail\n",
        "\n",
        "    self.size -= 1    # update size\n",
        "\n",
        "  # add an element with data x to the end\n",
        "  def appendright (self, x):\n",
        "    if self.head == None:   # LL is empty\n",
        "      self.appendleft (x)   # appendright is the appendleft then\n",
        "    else:\n",
        "      self.appendafter (self.tail, x)\n",
        "\n",
        "  def checkindex (self, idx):   # no change\n",
        "    curr = self.head\n",
        "    for i in range (idx):\n",
        "      curr = curr.next\n",
        "    return curr\n",
        "\n",
        "  \"\"\"General Template to iterate over a Linked List (Singly/Doubly)\n",
        "  curr = self.head\n",
        "  while curr != None:\n",
        "    # do something with curr\n",
        "    curr = curr.next\n",
        "  # \"\"\"\n",
        "\n",
        "  def __str__ (self):\n",
        "    ans = \"\"\n",
        "    curr = self.head\n",
        "    while curr != None:\n",
        "      ans += str (curr.data) + \" -> \"\n",
        "      curr = curr.next\n",
        "    ans += \"; HEAD = \" + str (self.head.data)\n",
        "    ans += \", TAIL = \" + str (self.tail.data)\n",
        "    return ans"
      ]
    },
    {
      "cell_type": "code",
      "source": [
        "sll = SinglyLinkedListWithTail ()\n",
        "sll.appendleft (41)\n",
        "sll.appendleft (85)\n",
        "sll.appendleft (77)\n",
        "\n",
        "print (sll)   # 77 85 41\n",
        "sll.appendafter (sll.head.next, 16)\n",
        "print (sll)   # 77 85 16 41\n",
        "sll.popafter (sll.head.next.next)\n",
        "print (sll)   # 77 85 16\n",
        "print (sll.checkindex (2).data)\n",
        "sll.checkindex (2).data = 57\n",
        "print (sll)   # 77 85 57\n",
        "sll.appendright (90)\n",
        "print (sll)   # 77 85 57 90"
      ],
      "metadata": {
        "colab": {
          "base_uri": "https://localhost:8080/"
        },
        "id": "z_bu0Uj3u4U5",
        "outputId": "8b488352-cb1f-4540-ce47-cc4052236111"
      },
      "execution_count": null,
      "outputs": [
        {
          "output_type": "stream",
          "name": "stdout",
          "text": [
            "77 -> 85 -> 41 -> ; HEAD = 77, TAIL = 41\n",
            "77 -> 85 -> 16 -> 41 -> ; HEAD = 77, TAIL = 41\n",
            "77 -> 85 -> 16 -> ; HEAD = 77, TAIL = 16\n",
            "16\n",
            "77 -> 85 -> 57 -> ; HEAD = 77, TAIL = 57\n",
            "77 -> 85 -> 57 -> 90 -> ; HEAD = 77, TAIL = 90\n"
          ]
        }
      ]
    },
    {
      "cell_type": "code",
      "source": [
        "sll2 = SinglyLinkedListWithTail ()\n",
        "sll2.appendright (18)\n",
        "sll2.appendleft (77)\n",
        "sll2.appendright (10000)\n",
        "sll2.appendleft (5)\n",
        "sll2.appendright (2000000000)\n",
        "sll2.appendleft (66)\n",
        "\n",
        "print (sll2)    # 66 -> 5 -> 77 -> 18 -> 10000 -> 2000000000 ->\n",
        "print (sll2.size)"
      ],
      "metadata": {
        "colab": {
          "base_uri": "https://localhost:8080/"
        },
        "id": "U3V6ccOwvuhL",
        "outputId": "8cebc1a8-554d-4d8c-91f9-26a17d5967e9"
      },
      "execution_count": null,
      "outputs": [
        {
          "output_type": "stream",
          "name": "stdout",
          "text": [
            "66 -> 5 -> 77 -> 18 -> 10000 -> 2000000000 -> ; HEAD = 66, TAIL = 2000000000\n",
            "6\n"
          ]
        }
      ]
    },
    {
      "cell_type": "code",
      "source": [
        "# [OPTIONAL] why do we need two separate classes?\n",
        "\n",
        "# Consider the following scenario\n",
        "sll = ONELinkedListClass ()\n",
        "sll.appendleft (54)\n",
        "print (sll.head.data)   # 54\n",
        "print (sll.head.next)   # None\n",
        "sll.popleft ()\n",
        "sll (sll.head)          # None\n",
        "sll.appendleft (42)\n",
        "print (sll.head.data)   # 42\n",
        "print (sll.head.next)   # None\n",
        "sll.appendleft (19)\n",
        "print (sll.head.next.data)    # 42"
      ],
      "metadata": {
        "id": "Rrgj9dLTw7Ym"
      },
      "execution_count": null,
      "outputs": []
    },
    {
      "cell_type": "code",
      "source": [
        "# With Singly-Linked Lists, we can efficiently appendleft, popleft, and appendright\n",
        "# What about popleft?\n",
        "\n",
        "# This requires being able to access the previous node from a given node\n",
        "# We can add this field to our nodes to form a Doubly-Linked List\n",
        "\n",
        "# In a DLL, every node has 3 fields now: data, next, prev"
      ],
      "metadata": {
        "id": "JwoE_x7-x3EW"
      },
      "execution_count": null,
      "outputs": []
    },
    {
      "cell_type": "code",
      "source": [
        "class DLLNode:      # Doubly-Linked List Node\n",
        "  def __init__ (self, dt, nx = None, pv = None):\n",
        "    self.data = dt\n",
        "    self.next = nx\n",
        "    self.prev = pv\n",
        "\n",
        "class DoublyLinkedList:\n",
        "  def __init__ (self):\n",
        "    self.head = None    # Still Mandatory Field\n",
        "    self.tail = None    # Now a Mandatory Field\n",
        "    self.size = 0       # Optional, but allows us to easily determine LL size\n",
        "\n",
        "  def appendleft (self, x):\n",
        "    if self.head == None:\n",
        "      newnd = SLLNode (x)\n",
        "      self.head = newnd\n",
        "      self.tail = newnd\n",
        "    else:\n",
        "      newnd = SLLNode (x)\n",
        "      newnd.next = self.head\n",
        "      self.head.prev = newnd   # add backward arrow\n",
        "      self.head = newnd\n",
        "    self.size += 1\n",
        "\n",
        "  def popleft (self):\n",
        "    self.head = self.head.next\n",
        "    self.head.prev = None       # there should be no node before the head\n",
        "    if self.head == None:\n",
        "      self.tail = None\n",
        "    self.size -= 1\n",
        "\n",
        "  def appendafter (self, nd, x):\n",
        "    newnd = SLLNode (x)\n",
        "    newnd.next = nd.next\n",
        "    if nd.next != None:         # check if the next is going to a node\n",
        "      nd.next.prev = newnd      # add backward arrow\n",
        "    nd.next = newnd\n",
        "    newnd.prev = nd           # add backward arrow\n",
        "\n",
        "    if newnd.next == None:\n",
        "      self.tail = newnd\n",
        "\n",
        "    self.size += 1\n",
        "\n",
        "  def popafter (self, nd):\n",
        "    nd.next = nd.next.next    # careful, the node on the right is now nd.next\n",
        "    if nd.next != None:       # check if the next is going to a node\n",
        "      nd.next.prev = nd       # add backward arrow\n",
        "\n",
        "    if nd.next == None:\n",
        "      self.tail = nd\n",
        "\n",
        "    self.size -= 1\n",
        "\n",
        "  def appendright (self, x):\n",
        "    if self.head == None:\n",
        "      self.appendleft (x)\n",
        "    else:\n",
        "      self.appendafter (self.tail, x)\n",
        "\n",
        "  # delete the last element\n",
        "  # assume the LL is non-empty\n",
        "  def popright (self):\n",
        "    if self.head == self.tail:    # LL has only one node\n",
        "      self.popleft ()             # popright is now the same as popleft\n",
        "    else:\n",
        "      self.popafter (self.tail.prev)\n",
        "\n",
        "  def checkindex (self, idx):\n",
        "    curr = self.head\n",
        "    for i in range (idx):\n",
        "      curr = curr.next\n",
        "    return curr\n",
        "\n",
        "  \"\"\"General Template to iterate over a Linked List (Singly/Doubly)\n",
        "  curr = self.head\n",
        "  while curr != None:\n",
        "    # do something with curr\n",
        "    curr = curr.next\n",
        "  # \"\"\"\n",
        "\n",
        "  def __str__ (self):\n",
        "    ans = \"\"\n",
        "    curr = self.head\n",
        "    while curr != None:\n",
        "      ans += str (curr.data) + \" -> \"\n",
        "      curr = curr.next\n",
        "    ans += \"; HEAD = \" + str (self.head.data)\n",
        "    ans += \", TAIL = \" + str (self.tail.data)\n",
        "    return ans"
      ],
      "metadata": {
        "id": "QVS-D7e5yrSJ"
      },
      "execution_count": null,
      "outputs": []
    },
    {
      "cell_type": "code",
      "source": [
        "dll = DoublyLinkedList ()\n",
        "dll.appendleft (41)\n",
        "dll.appendleft (85)\n",
        "dll.appendleft (77)\n",
        "\n",
        "print (dll)   # 77 85 41\n",
        "dll.appendafter (dll.head.next, 16)\n",
        "print (dll)   # 77 85 16 41\n",
        "dll.popafter (dll.head.next.next)\n",
        "print (dll)   # 77 85 16\n",
        "print (dll.checkindex (2).data)\n",
        "dll.checkindex (2).data = 57\n",
        "print (dll)   # 77 85 57\n",
        "dll.appendright (90)\n",
        "print (dll)   # 77 85 57 90\n",
        "dll.popright ()\n",
        "print (dll)"
      ],
      "metadata": {
        "colab": {
          "base_uri": "https://localhost:8080/"
        },
        "id": "8i8pWVjL1dRd",
        "outputId": "28c7abfb-7c26-4caf-fc4a-1ff6bfaf00c7"
      },
      "execution_count": null,
      "outputs": [
        {
          "output_type": "stream",
          "name": "stdout",
          "text": [
            "77 -> 85 -> 41 -> ; HEAD = 77, TAIL = 41\n",
            "77 -> 85 -> 16 -> 41 -> ; HEAD = 77, TAIL = 41\n",
            "77 -> 85 -> 16 -> ; HEAD = 77, TAIL = 16\n",
            "16\n",
            "77 -> 85 -> 57 -> ; HEAD = 77, TAIL = 57\n",
            "77 -> 85 -> 57 -> 90 -> ; HEAD = 77, TAIL = 90\n",
            "77 -> 85 -> 57 -> ; HEAD = 77, TAIL = 57\n"
          ]
        }
      ]
    }
  ]
}