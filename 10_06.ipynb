{
  "nbformat": 4,
  "nbformat_minor": 0,
  "metadata": {
    "colab": {
      "provenance": []
    },
    "kernelspec": {
      "name": "python3",
      "display_name": "Python 3"
    },
    "language_info": {
      "name": "python"
    }
  },
  "cells": [
    {
      "cell_type": "code",
      "execution_count": null,
      "metadata": {
        "id": "gb-WTcV0OJ_q"
      },
      "outputs": [],
      "source": [
        "a = 8\n",
        "lst = [12, 86, 57]\n",
        "\n",
        "# A function allows you to save a piece of code like a variable"
      ]
    },
    {
      "cell_type": "code",
      "source": [
        "# Syntax:\n",
        "# def [functionname] ([parameternames]):\n",
        "#   [function-body]\n",
        "#   [function-body]\n",
        "# There can be any number of parameters\n",
        "\n",
        "# Parameter names and function names are essentially variable names\n",
        "# (e.g., they should begin with lowercase letters)"
      ],
      "metadata": {
        "id": "WNcj_3AiRf7E"
      },
      "execution_count": null,
      "outputs": []
    },
    {
      "cell_type": "code",
      "source": [
        "for i in range (5):\n",
        "  print (\"#####\")"
      ],
      "metadata": {
        "colab": {
          "base_uri": "https://localhost:8080/"
        },
        "id": "6S3lpZkLRx5A",
        "outputId": "e6fb28ce-00cb-4152-eedd-3369e39e39e3"
      },
      "execution_count": null,
      "outputs": [
        {
          "output_type": "stream",
          "name": "stdout",
          "text": [
            "#####\n",
            "#####\n",
            "#####\n",
            "#####\n",
            "#####\n"
          ]
        }
      ]
    },
    {
      "cell_type": "code",
      "source": [
        "def square ():\n",
        "  for i in range (5):\n",
        "    print (\"#####\")"
      ],
      "metadata": {
        "id": "bN39VY7gR9vS"
      },
      "execution_count": null,
      "outputs": []
    },
    {
      "cell_type": "code",
      "source": [
        "# In order to run the saved code, we use the same function name\n",
        "# followed by parentheses (). This is known as \"calling\" the function\n",
        "\n",
        "square ()\n",
        "print (\"hello\")\n",
        "square ()\n",
        "print (\"world\")\n",
        "square ()"
      ],
      "metadata": {
        "colab": {
          "base_uri": "https://localhost:8080/"
        },
        "id": "kxWcKVlYSKdN",
        "outputId": "84f011c7-6d24-4f99-999b-3e8cbd9295d4"
      },
      "execution_count": null,
      "outputs": [
        {
          "output_type": "stream",
          "name": "stdout",
          "text": [
            "#####\n",
            "#####\n",
            "#####\n",
            "#####\n",
            "#####\n",
            "hello\n",
            "#####\n",
            "#####\n",
            "#####\n",
            "#####\n",
            "#####\n",
            "world\n",
            "#####\n",
            "#####\n",
            "#####\n",
            "#####\n",
            "#####\n"
          ]
        }
      ]
    },
    {
      "cell_type": "code",
      "source": [
        "# Instead of running the exact same code every time with the same\n",
        "# values, we may want some variables to have different values\n",
        "# when running the function\n",
        "# This can be achieved by adding parameters to the function definition"
      ],
      "metadata": {
        "id": "ktueTFx5SncW"
      },
      "execution_count": null,
      "outputs": []
    },
    {
      "cell_type": "code",
      "source": [
        "def rectangle1 (numrows):\n",
        "  for i in range (numrows):\n",
        "    print (\"#####\")"
      ],
      "metadata": {
        "id": "_cjFnTdtS1hx"
      },
      "execution_count": null,
      "outputs": []
    },
    {
      "cell_type": "code",
      "source": [
        "# When calling a function, we should provide the values of\n",
        "# the parameters. These values are known as arguments\n",
        "\n",
        "rectangle1 (7)    # numrows = 7"
      ],
      "metadata": {
        "colab": {
          "base_uri": "https://localhost:8080/"
        },
        "id": "4z-rYlsNTETU",
        "outputId": "e6782568-3b74-4914-ae6e-34af03800bf1"
      },
      "execution_count": null,
      "outputs": [
        {
          "output_type": "stream",
          "name": "stdout",
          "text": [
            "#####\n",
            "#####\n",
            "#####\n",
            "#####\n",
            "#####\n",
            "#####\n",
            "#####\n"
          ]
        }
      ]
    },
    {
      "cell_type": "code",
      "source": [
        "# We can have any number of parameters, but we need to provide\n",
        "# arguments for them in the same order\n",
        "\n",
        "def rectangle2 (numrows, numcols):\n",
        "  for i in range (numrows):\n",
        "    print (\"#\" * numcols)"
      ],
      "metadata": {
        "id": "QgMWMu4RTUhZ"
      },
      "execution_count": null,
      "outputs": []
    },
    {
      "cell_type": "code",
      "source": [
        "rectangle2 (6, 10)    # numrows = 6, numcols = 10\n",
        "rectangle2 (numcols = 20, numrows = 3)\n",
        "\n",
        "print (\"hello\" * 5)"
      ],
      "metadata": {
        "colab": {
          "base_uri": "https://localhost:8080/"
        },
        "id": "oB4YnQzNTmlU",
        "outputId": "2ddc6785-631c-43a5-f389-b53b66daa2a9"
      },
      "execution_count": null,
      "outputs": [
        {
          "output_type": "stream",
          "name": "stdout",
          "text": [
            "##########\n",
            "##########\n",
            "##########\n",
            "##########\n",
            "##########\n",
            "##########\n",
            "####################\n",
            "####################\n",
            "####################\n",
            "hellohellohellohellohello\n"
          ]
        }
      ]
    },
    {
      "cell_type": "code",
      "source": [
        "# We can also specify default values for parameters\n",
        "\n",
        "# The parameters with default values must ALL come AFTER\n",
        "# the parameters without default values\n",
        "\n",
        "#def rectangle3 (numrows, numcols = 10, sym):   # SyntaxError\n",
        "def rectangle3 (numrows, numcols = 10, sym = \"#\"):\n",
        "  for i in range (numrows):\n",
        "    print (sym * numcols)"
      ],
      "metadata": {
        "colab": {
          "base_uri": "https://localhost:8080/",
          "height": 106
        },
        "id": "EoD0M0AgULys",
        "outputId": "0edc4b24-519c-4271-a7c2-5e3ee78d22ed"
      },
      "execution_count": null,
      "outputs": [
        {
          "output_type": "error",
          "ename": "SyntaxError",
          "evalue": "parameter without a default follows parameter with a default (ipython-input-604921188.py, line 3)",
          "traceback": [
            "\u001b[0;36m  File \u001b[0;32m\"/tmp/ipython-input-604921188.py\"\u001b[0;36m, line \u001b[0;32m3\u001b[0m\n\u001b[0;31m    def rectangle3 (numrows, numcols = 10, sym):\u001b[0m\n\u001b[0m                                           ^\u001b[0m\n\u001b[0;31mSyntaxError\u001b[0m\u001b[0;31m:\u001b[0m parameter without a default follows parameter with a default\n"
          ]
        }
      ]
    },
    {
      "cell_type": "code",
      "source": [
        "rectangle3 (4, 10, \"+\")\n",
        "rectangle3 (7)\n",
        "rectangle3 (3, 20)\n",
        "rectangle3 (9)\n",
        "rectangle3 (5, sym = \"%\")\n",
        "#rectangle3 (5, sym = \"@\", sym = \"-\")   # SyntaxError\n",
        "#rectangle3 (5, sym = \":\", 7)           # SyntaxError\n",
        "# The arguments where we mention parameter names should\n",
        "# all be at the end, after all the positional arguments,\n",
        "# i.e., the arguments where we do not mention parameter names"
      ],
      "metadata": {
        "colab": {
          "base_uri": "https://localhost:8080/"
        },
        "id": "NuymUBJ0UP8O",
        "outputId": "aa1a05ce-1489-4ef0-ef22-cb5269780081"
      },
      "execution_count": null,
      "outputs": [
        {
          "output_type": "stream",
          "name": "stdout",
          "text": [
            "++++++++++\n",
            "++++++++++\n",
            "++++++++++\n",
            "++++++++++\n",
            "##########\n",
            "##########\n",
            "##########\n",
            "##########\n",
            "##########\n",
            "##########\n",
            "##########\n",
            "####################\n",
            "####################\n",
            "####################\n",
            "##########\n",
            "##########\n",
            "##########\n",
            "##########\n",
            "##########\n",
            "##########\n",
            "##########\n",
            "##########\n",
            "##########\n",
            "%%%%%%%%%%\n",
            "%%%%%%%%%%\n",
            "%%%%%%%%%%\n",
            "%%%%%%%%%%\n",
            "%%%%%%%%%%\n"
          ]
        }
      ]
    },
    {
      "cell_type": "markdown",
      "source": [
        "Solve $ax^2 + bx + c = 0$ where $a$, $b$, and $c$ are known.\n",
        "\n",
        "$x = \\frac{-b \\pm \\sqrt{b^2 - 4ac}}{2a}$"
      ],
      "metadata": {
        "id": "Q3xSyjEXXO7M"
      }
    },
    {
      "cell_type": "code",
      "source": [
        "# If we want the function to produce an output value, we can\n",
        "# use return, which may be followed by a value\n",
        "\n",
        "# return does two things:\n",
        "# 1) immediately end the function and return to where the function\n",
        "# was called\n",
        "# 2) if there is a value after return, then the original function\n",
        "# call is replaced by this value\n",
        "\n",
        "# Solve a quadratic equation of the form ax^2 + bx + c = 0\n",
        "# where we know the values of a, b, and c\n",
        "\n",
        "def quadratic1 (a, b, c):\n",
        "  x1 = (-b + (b ** 2 - 4 * a * c) ** 0.5) / (2 * a)\n",
        "  x2 = (-b - (b ** 2 - 4 * a * c) ** 0.5) / (2 * a)\n",
        "  return x1\n",
        "\n",
        "ans1 = quadratic1 (1, -5, -14)\n",
        "print (ans1)"
      ],
      "metadata": {
        "colab": {
          "base_uri": "https://localhost:8080/"
        },
        "id": "tv2HW6lyXB8r",
        "outputId": "9ef8e4a0-045c-4e0c-bf94-9d04282b222a"
      },
      "execution_count": null,
      "outputs": [
        {
          "output_type": "stream",
          "name": "stdout",
          "text": [
            "7.0\n"
          ]
        }
      ]
    },
    {
      "cell_type": "code",
      "source": [
        "# A variable that is assigned at some point in the function\n",
        "# is considered a local variable. This variable only exists\n",
        "# inside the function and does not exist outside the function\n",
        "# Even if there is a variable with the same name outside the\n",
        "# function, Python will treat that as a completely different\n",
        "# variable\n",
        "\n",
        "x = 5\n",
        "def fun1 ():\n",
        "  print (x)\n",
        "\n",
        "y = 2\n",
        "def fun2 ():\n",
        "  print (x, y)\n",
        "  y = 3\n",
        "\n",
        "fun1 ()\n",
        "#fun2 ()      # UnboundLocalError"
      ],
      "metadata": {
        "colab": {
          "base_uri": "https://localhost:8080/",
          "height": 315
        },
        "id": "E_gZJgC1Yv1E",
        "outputId": "4f540e94-0f17-413f-aa3c-2666cde7b330"
      },
      "execution_count": null,
      "outputs": [
        {
          "output_type": "stream",
          "name": "stdout",
          "text": [
            "5\n"
          ]
        },
        {
          "output_type": "error",
          "ename": "UnboundLocalError",
          "evalue": "cannot access local variable 'y' where it is not associated with a value",
          "traceback": [
            "\u001b[0;31m---------------------------------------------------------------------------\u001b[0m",
            "\u001b[0;31mUnboundLocalError\u001b[0m                         Traceback (most recent call last)",
            "\u001b[0;32m/tmp/ipython-input-1307345263.py\u001b[0m in \u001b[0;36m<cell line: 0>\u001b[0;34m()\u001b[0m\n\u001b[1;32m     16\u001b[0m \u001b[0;34m\u001b[0m\u001b[0m\n\u001b[1;32m     17\u001b[0m \u001b[0mfun1\u001b[0m \u001b[0;34m(\u001b[0m\u001b[0;34m)\u001b[0m\u001b[0;34m\u001b[0m\u001b[0;34m\u001b[0m\u001b[0m\n\u001b[0;32m---> 18\u001b[0;31m \u001b[0mfun2\u001b[0m \u001b[0;34m(\u001b[0m\u001b[0;34m)\u001b[0m      \u001b[0;31m#\u001b[0m\u001b[0;34m\u001b[0m\u001b[0;34m\u001b[0m\u001b[0m\n\u001b[0m",
            "\u001b[0;32m/tmp/ipython-input-1307345263.py\u001b[0m in \u001b[0;36mfun2\u001b[0;34m()\u001b[0m\n\u001b[1;32m     12\u001b[0m \u001b[0my\u001b[0m \u001b[0;34m=\u001b[0m \u001b[0;36m2\u001b[0m\u001b[0;34m\u001b[0m\u001b[0;34m\u001b[0m\u001b[0m\n\u001b[1;32m     13\u001b[0m \u001b[0;32mdef\u001b[0m \u001b[0mfun2\u001b[0m \u001b[0;34m(\u001b[0m\u001b[0;34m)\u001b[0m\u001b[0;34m:\u001b[0m\u001b[0;34m\u001b[0m\u001b[0;34m\u001b[0m\u001b[0m\n\u001b[0;32m---> 14\u001b[0;31m   \u001b[0mprint\u001b[0m \u001b[0;34m(\u001b[0m\u001b[0mx\u001b[0m\u001b[0;34m,\u001b[0m \u001b[0my\u001b[0m\u001b[0;34m)\u001b[0m\u001b[0;34m\u001b[0m\u001b[0;34m\u001b[0m\u001b[0m\n\u001b[0m\u001b[1;32m     15\u001b[0m   \u001b[0my\u001b[0m \u001b[0;34m=\u001b[0m \u001b[0;36m3\u001b[0m\u001b[0;34m\u001b[0m\u001b[0;34m\u001b[0m\u001b[0m\n\u001b[1;32m     16\u001b[0m \u001b[0;34m\u001b[0m\u001b[0m\n",
            "\u001b[0;31mUnboundLocalError\u001b[0m: cannot access local variable 'y' where it is not associated with a value"
          ]
        }
      ]
    },
    {
      "cell_type": "code",
      "source": [
        "def quadratic2 (a, b, c):\n",
        "  x1 = (-b + (b ** 2 - 4 * a * c) ** 0.5) / (2 * a)\n",
        "  x2 = (-b - (b ** 2 - 4 * a * c) ** 0.5) / (2 * a)\n",
        "  return x1     # return ends the function call\n",
        "  return x2     # this will never run\n",
        "\n",
        "ans = quadratic2 (1, -5, -14)\n",
        "print (ans)     # still only x1 = -7.0"
      ],
      "metadata": {
        "colab": {
          "base_uri": "https://localhost:8080/"
        },
        "id": "aICOFYlXah_1",
        "outputId": "2dd6b490-7fc6-4ff7-97ea-c2c386d187bf"
      },
      "execution_count": null,
      "outputs": [
        {
          "output_type": "stream",
          "name": "stdout",
          "text": [
            "7.0\n"
          ]
        }
      ]
    },
    {
      "cell_type": "code",
      "source": [
        "def quadratic3 (a, b, c):\n",
        "  x1 = (-b + (b ** 2 - 4 * a * c) ** 0.5) / (2 * a)\n",
        "  x2 = (-b - (b ** 2 - 4 * a * c) ** 0.5) / (2 * a)\n",
        "  return [x1, x2]\n",
        "\n",
        "ans = quadratic3 (1, -5, -14)\n",
        "print (ans)\n",
        "\n"
      ],
      "metadata": {
        "colab": {
          "base_uri": "https://localhost:8080/"
        },
        "id": "0kCITwGUa3OQ",
        "outputId": "9a7fd6b8-70e3-4e33-ce6e-9f50c76e880e"
      },
      "execution_count": null,
      "outputs": [
        {
          "output_type": "stream",
          "name": "stdout",
          "text": [
            "[7.0, -2.0]\n"
          ]
        }
      ]
    },
    {
      "cell_type": "code",
      "source": [
        "# the left side of = can be a collection of variable names,\n",
        "# causing each variable to be assigned to each value on the right\n",
        "# side respectively\n",
        "# This only works if both sides have the same length\n",
        "# and even works if the types are different\n",
        "\n",
        "[a, b] = [5, 7]\n",
        "print (a)   # 5\n",
        "print (b)   # 7\n",
        "\n",
        "[a, b] = \"ok\"\n",
        "print (a)   # o\n",
        "print (b)   # k"
      ],
      "metadata": {
        "colab": {
          "base_uri": "https://localhost:8080/",
          "height": 245
        },
        "id": "R-1P5MsRbWEV",
        "outputId": "6a353721-658a-4af4-9e20-8a26f28b1d40"
      },
      "execution_count": null,
      "outputs": [
        {
          "output_type": "stream",
          "name": "stdout",
          "text": [
            "5\n",
            "7\n"
          ]
        },
        {
          "output_type": "error",
          "ename": "ValueError",
          "evalue": "not enough values to unpack (expected 2, got 1)",
          "traceback": [
            "\u001b[0;31m---------------------------------------------------------------------------\u001b[0m",
            "\u001b[0;31mValueError\u001b[0m                                Traceback (most recent call last)",
            "\u001b[0;32m/tmp/ipython-input-2909770828.py\u001b[0m in \u001b[0;36m<cell line: 0>\u001b[0;34m()\u001b[0m\n\u001b[1;32m      9\u001b[0m \u001b[0mprint\u001b[0m \u001b[0;34m(\u001b[0m\u001b[0mb\u001b[0m\u001b[0;34m)\u001b[0m   \u001b[0;31m# 7\u001b[0m\u001b[0;34m\u001b[0m\u001b[0;34m\u001b[0m\u001b[0m\n\u001b[1;32m     10\u001b[0m \u001b[0;34m\u001b[0m\u001b[0m\n\u001b[0;32m---> 11\u001b[0;31m \u001b[0;34m[\u001b[0m\u001b[0ma\u001b[0m\u001b[0;34m,\u001b[0m \u001b[0mb\u001b[0m\u001b[0;34m]\u001b[0m \u001b[0;34m=\u001b[0m \u001b[0;34m[\u001b[0m\u001b[0;34m\"okay\"\u001b[0m\u001b[0;34m]\u001b[0m\u001b[0;34m\u001b[0m\u001b[0;34m\u001b[0m\u001b[0m\n\u001b[0m\u001b[1;32m     12\u001b[0m \u001b[0mprint\u001b[0m \u001b[0;34m(\u001b[0m\u001b[0ma\u001b[0m\u001b[0;34m)\u001b[0m   \u001b[0;31m# o\u001b[0m\u001b[0;34m\u001b[0m\u001b[0;34m\u001b[0m\u001b[0m\n\u001b[1;32m     13\u001b[0m \u001b[0mprint\u001b[0m \u001b[0;34m(\u001b[0m\u001b[0mb\u001b[0m\u001b[0;34m)\u001b[0m   \u001b[0;31m# k\u001b[0m\u001b[0;34m\u001b[0m\u001b[0;34m\u001b[0m\u001b[0m\n",
            "\u001b[0;31mValueError\u001b[0m: not enough values to unpack (expected 2, got 1)"
          ]
        }
      ]
    },
    {
      "cell_type": "code",
      "source": [
        "[ans1, ans2] = quadratic3 (1, -5, -14)\n",
        "print (ans1)\n",
        "print (ans2)"
      ],
      "metadata": {
        "colab": {
          "base_uri": "https://localhost:8080/"
        },
        "id": "4It2GYDhb21_",
        "outputId": "9b803763-36f3-4b61-8e7d-fe651ed9932a"
      },
      "execution_count": null,
      "outputs": [
        {
          "output_type": "stream",
          "name": "stdout",
          "text": [
            "7.0\n",
            "-2.0\n"
          ]
        }
      ]
    },
    {
      "cell_type": "code",
      "source": [
        "def quadratic4 (a, b, c):\n",
        "  x1 = (-b + (b ** 2 - 4 * a * c) ** 0.5) / (2 * a)\n",
        "  x2 = (-b - (b ** 2 - 4 * a * c) ** 0.5) / (2 * a)\n",
        "  return x1, x2       # this is returning a tuple\n",
        "\n",
        "ans1, ans2 = quadratic4 (1, -5, -14)    # this is assigning to a tuple\n",
        "print (ans1)\n",
        "print (ans2)"
      ],
      "metadata": {
        "colab": {
          "base_uri": "https://localhost:8080/"
        },
        "id": "I5h1CMTsb9mW",
        "outputId": "c315d961-603c-41d2-ccd2-4ffcf64abcc3"
      },
      "execution_count": null,
      "outputs": [
        {
          "output_type": "stream",
          "name": "stdout",
          "text": [
            "7.0\n",
            "-2.0\n"
          ]
        }
      ]
    },
    {
      "cell_type": "code",
      "source": [
        "def fun3 ():\n",
        "  print (\"hello\")\n",
        "  # return      # returns None, which is the same as the default case\n",
        "\n",
        "a = fun3 ()\n",
        "b = print (a)\n",
        "print (b)"
      ],
      "metadata": {
        "colab": {
          "base_uri": "https://localhost:8080/"
        },
        "id": "kBvr66yqco69",
        "outputId": "38c59ff4-bce1-4cb4-9fd2-fa5dbb8810a9"
      },
      "execution_count": null,
      "outputs": [
        {
          "output_type": "stream",
          "name": "stdout",
          "text": [
            "hello\n",
            "None\n",
            "None\n"
          ]
        }
      ]
    },
    {
      "cell_type": "code",
      "source": [
        "lst = [print, len, input]\n",
        "\n",
        "lst[0] (\"hello\")\n",
        "lst[0] (lst[1] (\"hello\"))"
      ],
      "metadata": {
        "colab": {
          "base_uri": "https://localhost:8080/"
        },
        "id": "148P1ZFodFvB",
        "outputId": "36214d3b-b257-4aad-f7aa-e53f7280f696"
      },
      "execution_count": null,
      "outputs": [
        {
          "output_type": "stream",
          "name": "stdout",
          "text": [
            "hello\n",
            "5\n"
          ]
        }
      ]
    },
    {
      "cell_type": "code",
      "source": [
        "print = 75      # don't try this at home\n",
        "\n",
        "# this will change the value of print, but now\n",
        "# we can no longer use print as a function"
      ],
      "metadata": {
        "colab": {
          "base_uri": "https://localhost:8080/",
          "height": 53
        },
        "id": "kqfWBiNIdUl5",
        "outputId": "ed2cb37e-4c00-4262-e356-4e9dacc09fff"
      },
      "execution_count": null,
      "outputs": [
        {
          "name": "stdout",
          "output_type": "stream",
          "text": [
            "7512\n"
          ]
        },
        {
          "output_type": "execute_result",
          "data": {
            "text/plain": [
              "'12'"
            ],
            "application/vnd.google.colaboratory.intrinsic+json": {
              "type": "string"
            }
          },
          "metadata": {},
          "execution_count": 58
        }
      ]
    },
    {
      "cell_type": "code",
      "source": [
        "len = 84\n",
        "print (len)\n",
        "#print (len (\"hello\"))    # TypeError"
      ],
      "metadata": {
        "colab": {
          "base_uri": "https://localhost:8080/"
        },
        "id": "vdl_IUfhdxXc",
        "outputId": "3e855696-3976-446b-c3ed-9ed0a24d040e"
      },
      "execution_count": null,
      "outputs": [
        {
          "output_type": "stream",
          "name": "stdout",
          "text": [
            "84\n"
          ]
        }
      ]
    },
    {
      "cell_type": "code",
      "source": [
        "# Some important functions\n",
        "# print will display its arguments to the console\n",
        "# print accepts ANY number of arguments\n",
        "# print also has some optional arguments like end and sep\n",
        "\n",
        "print (\"Hello\", 12, True, \"World\")\n",
        "print (42)\n",
        "\n",
        "# When there are multiple arguments, print displays all of them\n",
        "# separated by the value of sep, which is a space by default\n",
        "# After printing, the function also prints the value of end,\n",
        "# which is a newline by default (which is why multiple\n",
        "# calls to print generally display on different lines)\n",
        "\n",
        "print (\"Hello\", 12, True, sep = \"-\")\n",
        "print (\"Hello\", 12, True, sep = \"\")\n",
        "print (\"Python\", end = \"42\")      # note: end does not have a newline anymore\n",
        "print (\"Programming\")\n",
        "print (\"Python\", end = \"\")\n",
        "print (\"Programming\")\n",
        "\n",
        "# len ([collection]) returns the number of elements in the [collection]\n",
        "print (len (\"hello\"))   # 5\n",
        "print (len ([1, 2, 3]))   # 3\n",
        "\n",
        "# input ([string]) displays the [string] (like print, but there is no end or sep)\n",
        "# but then accepts input from the user, returning the string that the user enters\n",
        "# reminder: input () always returns a str, regardless of what the user enters\n",
        "\n",
        "a = input (\"Hello\")\n",
        "print (a)"
      ],
      "metadata": {
        "colab": {
          "base_uri": "https://localhost:8080/"
        },
        "id": "XmWYsK5PeYsx",
        "outputId": "ef1e4fd6-1e48-4689-a85d-0c7621082cf7"
      },
      "execution_count": null,
      "outputs": [
        {
          "output_type": "stream",
          "name": "stdout",
          "text": [
            "Hello 12 True World\n",
            "42\n",
            "Hello-12-True\n",
            "Hello12True\n",
            "Python42Programming\n",
            "PythonProgramming\n",
            "5\n",
            "3\n",
            "Hello42\n",
            "42\n"
          ]
        }
      ]
    },
    {
      "cell_type": "code",
      "source": [
        "# We can convert between different types using the names of the types\n",
        "\n",
        "a = 42\n",
        "b = float (a)\n",
        "c = str (a)\n",
        "print (a)\n",
        "print (b)\n",
        "print (c)\n",
        "print ()\n",
        "print (a * 2)     # 84\n",
        "print (c * 2)     # 4242\n",
        "\n",
        "#d = int (\"hello\")      # ValueError\n",
        "d = int (\"86\")"
      ],
      "metadata": {
        "colab": {
          "base_uri": "https://localhost:8080/"
        },
        "id": "Tcw2C9E4gCpR",
        "outputId": "97f405a2-d272-4332-a397-8b61d3df7bb7"
      },
      "execution_count": null,
      "outputs": [
        {
          "output_type": "stream",
          "name": "stdout",
          "text": [
            "42\n",
            "42.0\n",
            "42\n",
            "\n",
            "84\n",
            "4242\n"
          ]
        }
      ]
    },
    {
      "cell_type": "code",
      "source": [
        "# we can convert single-character strings into their\n",
        "# original Unicode value using ord\n",
        "# and convert the Unicode value back to a string using chr\n",
        "\n",
        "n = ord ('a')\n",
        "print (n)\n",
        "ch = chr (n)\n",
        "print (ch)\n",
        "\n",
        "def nextletter (ch, step = 1):\n",
        "  code = ord (ch)\n",
        "  nextcode = code + step\n",
        "  nextchar = chr (nextcode)\n",
        "  return nextchar\n",
        "\n",
        "print (nextletter ('a'))    # b\n",
        "print (nextletter ('h'))    # i\n",
        "print (nextletter ('p', 5))    # u\n",
        "print (nextletter ('গ', 3))   # চ"
      ],
      "metadata": {
        "colab": {
          "base_uri": "https://localhost:8080/"
        },
        "id": "ffORAyW7gxQ-",
        "outputId": "d2f8c883-dbcc-40e9-c525-4b39758db242"
      },
      "execution_count": null,
      "outputs": [
        {
          "output_type": "stream",
          "name": "stdout",
          "text": [
            "97\n",
            "a\n",
            "b\n",
            "i\n",
            "u\n",
            "চ\n"
          ]
        }
      ]
    },
    {
      "cell_type": "code",
      "source": [
        "lst = [1, 2, 3]\n",
        "lst.append (52)\n",
        "print (len (lst))   # 4\n",
        "print (lst)         # [1, 2, 3, 52]\n",
        "print (len (\"hello\"))   # 5\n",
        "\n",
        "# append here is a method\n",
        "# A method is a function which is restricted to a specific type"
      ],
      "metadata": {
        "colab": {
          "base_uri": "https://localhost:8080/"
        },
        "id": "c3DDvDt_qNgO",
        "outputId": "3fbaee4c-b581-49fa-cc67-fc98a0c56db3"
      },
      "execution_count": null,
      "outputs": [
        {
          "output_type": "stream",
          "name": "stdout",
          "text": [
            "4\n",
            "[1, 2, 3, 52]\n",
            "5\n"
          ]
        }
      ]
    },
    {
      "cell_type": "code",
      "source": [
        "# How can we build our own type?\n",
        "\n",
        "# Every type in Python is a class\n",
        "# What is a class? We will not be exploring that here\n",
        "# We will only consider the application of using classes to represent types\n",
        "\n",
        "# A value (of some type) is known as an object\n",
        "\n",
        "# 74.2 is an object of the class float\n",
        "# \"hello\" is an object of class str\n",
        "\n",
        "print (type (74.2))\n",
        "print (type (\"hello\"))\n",
        "\n",
        "\"hello\".append (\"!\")"
      ],
      "metadata": {
        "colab": {
          "base_uri": "https://localhost:8080/",
          "height": 220
        },
        "id": "IFDhb29lrab8",
        "outputId": "c4c15786-1374-461f-9088-8e32564b1fa8"
      },
      "execution_count": null,
      "outputs": [
        {
          "output_type": "stream",
          "name": "stdout",
          "text": [
            "<class 'float'>\n",
            "<class 'str'>\n"
          ]
        },
        {
          "output_type": "error",
          "ename": "AttributeError",
          "evalue": "'str' object has no attribute 'append'",
          "traceback": [
            "\u001b[0;31m---------------------------------------------------------------------------\u001b[0m",
            "\u001b[0;31mAttributeError\u001b[0m                            Traceback (most recent call last)",
            "\u001b[0;32m/tmp/ipython-input-3632148087.py\u001b[0m in \u001b[0;36m<cell line: 0>\u001b[0;34m()\u001b[0m\n\u001b[1;32m     13\u001b[0m \u001b[0mprint\u001b[0m \u001b[0;34m(\u001b[0m\u001b[0mtype\u001b[0m \u001b[0;34m(\u001b[0m\u001b[0;34m\"hello\"\u001b[0m\u001b[0;34m)\u001b[0m\u001b[0;34m)\u001b[0m\u001b[0;34m\u001b[0m\u001b[0;34m\u001b[0m\u001b[0m\n\u001b[1;32m     14\u001b[0m \u001b[0;34m\u001b[0m\u001b[0m\n\u001b[0;32m---> 15\u001b[0;31m \u001b[0;34m\"hello\"\u001b[0m\u001b[0;34m.\u001b[0m\u001b[0mappend\u001b[0m \u001b[0;34m(\u001b[0m\u001b[0;34m\"!\"\u001b[0m\u001b[0;34m)\u001b[0m\u001b[0;34m\u001b[0m\u001b[0;34m\u001b[0m\u001b[0m\n\u001b[0m",
            "\u001b[0;31mAttributeError\u001b[0m: 'str' object has no attribute 'append'"
          ]
        }
      ]
    },
    {
      "cell_type": "code",
      "source": [
        "# We can define our own classes!\n",
        "# For now, we will consider defining a class only to represent a type\n",
        "# with very limited features\n",
        "# Syntax:\n",
        "# class [Classname]:\n",
        "#   [class-body]\n",
        "#   [class-body]\n",
        "#\n",
        "# The [Classname] should always begin with an uppercase letter\n",
        "# For this course, the [class-body] will have nothing except\n",
        "# method definitions\n",
        "\n",
        "# Our class can have class-specific functions known as methods\n",
        "# as well as class-specific variables known as fields\n",
        "# collectively, fields and methods are both known as attributes\n",
        "\n",
        "# To refer to an attribute, the syntax is\n",
        "# [object].[attributename]\n",
        "# for fields, this is just [object].[fieldname]\n",
        "# for calling methods, this is [object].[methodname] ([arguments])\n",
        "\n",
        "# Syntax for defining a method\n",
        "# def [methodname] ([parameters]):\n",
        "#   [method-body]\n",
        "#   [method-body]\n",
        "\n",
        "# The FIRST parameter always corresponds to the object which is calling the\n",
        "# method\n",
        "\n",
        "# If the method call looks like\n",
        "# [object].[methodname] ([arg1], [arg2])\n",
        "\n",
        "# then the definition should look like\n",
        "# def [methodname] ([par0], [par1], [par2]):\n",
        "# where [par0] = [object], [par1] = [arg1], [par2] = [arg2]\n",
        "\n",
        "# the number of parameters inside the () is 1 + number of arguments inside the ()\n",
        "# the name for [par0] is ALWAYS self (in Python)\n",
        "\n",
        "class Fraction:\n",
        "  # I want to define a method that converts my Fraction into a float\n",
        "  def convert2float (self):\n",
        "    return self.num / self.den\n",
        "\n",
        "  def scale (self, factor):\n",
        "    newfrac = Fraction ()\n",
        "    newfrac.num = self.num * factor\n",
        "    newfrac.den = self.den\n",
        "    return newfrac\n",
        "\n",
        "  # Dunder Methods\n",
        "  # Dunder Methods are some special methods that automatically run under\n",
        "  # some very specific circumstances\n",
        "  # They all have fixed names, and they begin and end with __\n",
        "\n",
        "  # The __init__ method will run whenever an object of this class\n",
        "  # is constructed, i.e., it \"initializes\" the object\n",
        "  # We can add more parameters to __init__, and they will correspond\n",
        "  # to arguments inside the () when constructing the object\n",
        "  def __init__ (self, n = 1, d = 2):\n",
        "    print (\"A fraction has been constructed!\")\n",
        "    self.num = n\n",
        "    self.den = d\n",
        "\n",
        "  # The __str__ method will run whenever the object is converted into\n",
        "  # a str\n",
        "  # The print function ALWAYS converts its argument into a string\n",
        "  # before printing\n",
        "  # This MUST return a string\n",
        "  def __str__ (self):\n",
        "    return str (self.num) + \" over \" + str (self.den)\n",
        "\n",
        "  # There are dunder methods for arithmetic operations as well\n",
        "  def __mul__ (self, other):\n",
        "    ansfrac = Fraction ()\n",
        "    ansfrac.num = self.num * other.num\n",
        "    ansfrac.den = self.den * other.den\n",
        "    return ansfrac\n",
        "\n",
        "  # there are also methods for other operations like\n",
        "  # __add__ for +\n",
        "  # __sub__ for -\n",
        "  # __truediv__ for /\n",
        "  # __floordiv__ for //\n",
        "  # __pow__ for **\n",
        "  # __mod__ for %"
      ],
      "metadata": {
        "id": "2aXm_ZK-su1h"
      },
      "execution_count": null,
      "outputs": []
    },
    {
      "cell_type": "code",
      "source": [
        "# How do we construct a value of our own defined class (type)?\n",
        "# The \"only\" way to constuct such a value is to write the\n",
        "# name of the class, followed by parentheses ()\n",
        "\n",
        "frac1 = Fraction ()   # construct a value of type Fraction\n",
        "\n",
        "print (frac1)\n",
        "print (type (frac1))\n",
        "\n",
        "# I want frac1 to represent the fraction 13/29\n",
        "# we can store 13 and 29 as fields\n",
        "frac1.num = 13\n",
        "frac1.den = 29\n",
        "\n",
        "print (frac1.num)     # 13\n",
        "print (frac1.den)     # 29\n",
        "\n",
        "frac2 = Fraction ()\n",
        "frac2.num = 51\n",
        "frac2.den = 79\n",
        "print (frac2.num)   # 51\n",
        "print (frac2.den)   # 79\n",
        "\n",
        "print (frac1.num / frac1.den)   # 0.4482758620689655\n",
        "\n",
        "frac1.convert2float ()          # 0.4482758620689655\n",
        "# self = frac1\n",
        "\n",
        "print (frac2.convert2float ())          # 0.6455696202531646\n",
        "# self = frac2\n",
        "\n",
        "frac3 = frac1.scale (2)                 # 26/29\n",
        "print (frac3.num)         # 26\n",
        "print (frac3.den)         # 29\n",
        "print (frac3.convert2float ())          # 0.896551724137931"
      ],
      "metadata": {
        "colab": {
          "base_uri": "https://localhost:8080/"
        },
        "id": "f4fIuLsmteRI",
        "outputId": "90b2ded1-09e3-4909-d309-c17e1fca2c7d"
      },
      "execution_count": null,
      "outputs": [
        {
          "output_type": "stream",
          "name": "stdout",
          "text": [
            "A fraction has been constructed!\n",
            "1 over 2\n",
            "<class '__main__.Fraction'>\n",
            "13\n",
            "29\n",
            "A fraction has been constructed!\n",
            "51\n",
            "79\n",
            "0.4482758620689655\n",
            "0.6455696202531646\n",
            "A fraction has been constructed!\n",
            "26\n",
            "29\n",
            "0.896551724137931\n"
          ]
        }
      ]
    },
    {
      "cell_type": "code",
      "source": [
        "frac4 = Fraction (12, 7)    # 12/7\n",
        "# self = frac4, n = 12, d = 7\n",
        "print (frac4.num)\n",
        "print (frac4.den)\n",
        "frac5 = Fraction ()\n",
        "print (frac5.convert2float ())    # 0.5\n",
        "print (frac5)\n",
        "s = str (frac5)\n",
        "print (s)"
      ],
      "metadata": {
        "colab": {
          "base_uri": "https://localhost:8080/"
        },
        "id": "ZzCJi0mr2pay",
        "outputId": "1e18dbef-8317-4f94-da90-e61ffb0f5a65"
      },
      "execution_count": null,
      "outputs": [
        {
          "output_type": "stream",
          "name": "stdout",
          "text": [
            "A fraction has been constructed!\n",
            "12\n",
            "7\n",
            "A fraction has been constructed!\n",
            "0.5\n",
            "1 over 2\n",
            "1 over 2\n"
          ]
        }
      ]
    },
    {
      "cell_type": "code",
      "source": [
        "frac6 = Fraction (3, 4)\n",
        "frac7 = Fraction (5, 7)\n",
        "frac8 = frac6 * frac7     # 15 / 28\n",
        "# This will call __mul__ with self = frac6 and other = frac7\n",
        "\n",
        "print (frac8)     # 15 over 28"
      ],
      "metadata": {
        "colab": {
          "base_uri": "https://localhost:8080/"
        },
        "id": "VBnihKSI5EDp",
        "outputId": "f9c2ee17-bee1-4bab-d0b4-ac20967c9f0f"
      },
      "execution_count": null,
      "outputs": [
        {
          "output_type": "stream",
          "name": "stdout",
          "text": [
            "A fraction has been constructed!\n",
            "A fraction has been constructed!\n",
            "A fraction has been constructed!\n",
            "15 over 28\n"
          ]
        }
      ]
    }
  ]
}