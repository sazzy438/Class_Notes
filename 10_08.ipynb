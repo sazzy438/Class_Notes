{
  "nbformat": 4,
  "nbformat_minor": 0,
  "metadata": {
    "colab": {
      "provenance": [],
      "include_colab_link": true
    },
    "kernelspec": {
      "name": "python3",
      "display_name": "Python 3"
    },
    "language_info": {
      "name": "python"
    }
  },
  "cells": [
    {
      "cell_type": "markdown",
      "metadata": {
        "id": "view-in-github",
        "colab_type": "text"
      },
      "source": [
        "<a href=\"https://colab.research.google.com/github/sazzy438/Class_Notes/blob/main/10_08.ipynb\" target=\"_parent\"><img src=\"https://colab.research.google.com/assets/colab-badge.svg\" alt=\"Open In Colab\"/></a>"
      ]
    },
    {
      "cell_type": "code",
      "execution_count": null,
      "metadata": {
        "id": "rvFAd4vyhrLv"
      },
      "outputs": [],
      "source": [
        "# Data Structure: describes how data is stored\n",
        "\n",
        "# The first data structure we cover is the Array data structure\n",
        "# The Python list type implements the (dynamic) array data structure\n",
        "# The Python tuple type implements the (static) array data structure\n",
        "\n",
        "# The array describes a structure where the elements are stored\n",
        "# together consecutively\n",
        "# ALL elements are right next to each other\n",
        "\n",
        "# This allows indexing to be done VERY quickly\n",
        "# Since Python knows the location of the first element of the array,\n",
        "# Python can use a given index to calculate its location in the\n",
        "# memory quickly, and immediately retrieve the element accordingly\n",
        "\n",
        "# What Python does NOT do: start from the element, and step forward\n",
        "# one by one until it reaches the target index"
      ]
    },
    {
      "cell_type": "code",
      "source": [
        "tp = (72, 35, 61)\n",
        "\n",
        "tp[271]"
      ],
      "metadata": {
        "id": "00MjD9dLoIPr"
      },
      "execution_count": null,
      "outputs": []
    },
    {
      "cell_type": "code",
      "source": [
        "SIZE = 1000000\n",
        "tp = (55, 42) * (SIZE // 2)\n",
        "print (len (tp))\n",
        "\n",
        "sm = 0\n",
        "for i in range (SIZE):\n",
        "  sm += tp[i]\n",
        "print (sm)"
      ],
      "metadata": {
        "colab": {
          "base_uri": "https://localhost:8080/"
        },
        "id": "licdthnGpnJK",
        "outputId": "f58424c0-1647-42f1-c1a1-fc1e9c5c43da"
      },
      "execution_count": null,
      "outputs": [
        {
          "output_type": "stream",
          "name": "stdout",
          "text": [
            "1000000\n",
            "48500000\n"
          ]
        }
      ]
    },
    {
      "cell_type": "code",
      "source": [
        "import random\n",
        "\n",
        "sm = 0\n",
        "for _ in range (1000000):\n",
        "  idx = random.randint (0, SIZE - 1)    # choose random index\n",
        "  sm += tp[idx]\n",
        "\n",
        "print (sm)"
      ],
      "metadata": {
        "colab": {
          "base_uri": "https://localhost:8080/"
        },
        "id": "b0_FO3DiqKGw",
        "outputId": "db5206f1-ec02-437b-9ea8-df55c2b1fe23"
      },
      "execution_count": null,
      "outputs": [
        {
          "output_type": "stream",
          "name": "stdout",
          "text": [
            "48500130\n"
          ]
        }
      ]
    },
    {
      "cell_type": "code",
      "source": [
        "# Static vs Dynamic Arrays\n",
        "# A static array has a fixed size\n",
        "# A dynamic array allows the size to change\n",
        "\n",
        "# When constructing a dynamic array for the first time, the amount\n",
        "# of space reserved for it is generally much MORE than the actual\n",
        "# size of the array (usually about double)\n",
        "# At least three details must be noted and tracked:\n",
        "# 1) Location of the first element\n",
        "# 2) Amount of space reserved\n",
        "# 3) Actual length of the array being used\n",
        "\n",
        "# Indexing is the same, but note that the actual length is what is\n",
        "# considered for determining whether an index is valid"
      ],
      "metadata": {
        "id": "KMToiyWDrfsz"
      },
      "execution_count": null,
      "outputs": []
    },
    {
      "cell_type": "code",
      "source": [
        "lst = [72, 35, 61]\n",
        "\n",
        "lst.append (17)"
      ],
      "metadata": {
        "id": "JZc7vQp-sZo2"
      },
      "execution_count": null,
      "outputs": []
    },
    {
      "cell_type": "code",
      "source": [
        "# Append: if there is an available location within the reserved space\n",
        "# then the new element is added to the first available location\n",
        "# (the location is calculated quickly using the location of the\n",
        "# first element and the current size of the array)\n",
        "\n",
        "# But when there is no available location (the entire reserved space\n",
        "# is being used), then a new reservation is made for a much larger\n",
        "# space (again, roughly double what is needed) and all the old elements\n",
        "# are copied to the new space and the new element is added\n",
        "# These particular appends can be considered \"slow\", but they do not\n",
        "# occur very frequently, so when we perform many appends, the average\n",
        "# performance is extremely fast"
      ],
      "metadata": {
        "id": "qExtEK3sw3o-"
      },
      "execution_count": null,
      "outputs": []
    },
    {
      "cell_type": "code",
      "source": [
        "SIZE = 1000000\n",
        "lst = []\n",
        "\n",
        "for _ in range (SIZE):\n",
        "  r = random.randint (1, 1000000000000)\n",
        "  lst.append (r)"
      ],
      "metadata": {
        "id": "HbKkJUIXwA-Q"
      },
      "execution_count": null,
      "outputs": []
    },
    {
      "cell_type": "code",
      "source": [
        "# Deleting the last element is even faster, because we can simply\n",
        "# reduce the recorded size of the array\n",
        "# when the size becomes much smaller than the reserved space, then\n",
        "# the reservation may be decreased to reduce space wastage"
      ],
      "metadata": {
        "id": "1ZH_ssWixcVQ"
      },
      "execution_count": null,
      "outputs": []
    },
    {
      "cell_type": "code",
      "source": [
        "for _ in range (SIZE):\n",
        "  lst.pop ()      # remove last element"
      ],
      "metadata": {
        "id": "uxDgItnNwcIB"
      },
      "execution_count": null,
      "outputs": []
    },
    {
      "cell_type": "code",
      "source": [
        "# Adding an element to a given index will require ALL elements\n",
        "# from that index onwards to move one step right to make space\n",
        "# for the new element\n",
        "\n",
        "# Similarly, removing an element from a given index requires ALL\n",
        "# elements after it to move one step left\n",
        "\n",
        "# Both of these can be quite slow if there are many elements after\n",
        "# the index to be inserting/removing from\n",
        "# Especially if we are adding/removing at the first index"
      ],
      "metadata": {
        "id": "AQ6QOzfmzBbc"
      },
      "execution_count": null,
      "outputs": []
    },
    {
      "cell_type": "code",
      "source": [
        "SIZE = 100000\n",
        "lst = []\n",
        "\n",
        "for _ in range (SIZE):\n",
        "  r = random.randint (1, 1000000000000)\n",
        "  lst.insert (0, r)"
      ],
      "metadata": {
        "id": "mSW5UBe0zZwn"
      },
      "execution_count": null,
      "outputs": []
    },
    {
      "cell_type": "code",
      "source": [
        "lst = [55] * 1000000\n",
        "lst[0] = 42\n",
        "\n",
        "lst.pop (0)\n",
        "lst.insert (0, 42)"
      ],
      "metadata": {
        "id": "w2RsbCj60GBK"
      },
      "execution_count": null,
      "outputs": []
    }
  ]
}