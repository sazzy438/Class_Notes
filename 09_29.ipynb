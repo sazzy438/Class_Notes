{
  "nbformat": 4,
  "nbformat_minor": 0,
  "metadata": {
    "colab": {
      "provenance": []
    },
    "kernelspec": {
      "name": "python3",
      "display_name": "Python 3"
    },
    "language_info": {
      "name": "python"
    }
  },
  "cells": [
    {
      "cell_type": "code",
      "execution_count": null,
      "metadata": {
        "colab": {
          "base_uri": "https://localhost:8080/"
        },
        "id": "UlHF8RF5MYp_",
        "outputId": "90525c92-0d00-4947-9eae-69ecc47b05a4"
      },
      "outputs": [
        {
          "output_type": "stream",
          "name": "stdout",
          "text": [
            "None\n",
            "True\n",
            "False\n",
            "False\n",
            "True\n",
            "True\n",
            "False\n",
            "False\n",
            "True\n",
            "\n",
            "False\n",
            "False\n",
            "world\n",
            "0\n",
            "hello\n",
            "0\n",
            "None\n",
            "38\n",
            "38\n",
            "12\n",
            "[]\n",
            "False\n",
            "True\n",
            "0\n"
          ]
        }
      ],
      "source": [
        "# The simplest type in Python is the NoneType, which has only one value None\n",
        "a = None\n",
        "print (a)\n",
        "# It is used to represent nothingness, without referring to some other type\n",
        "\n",
        "# The next simplest type would have exactly two possible values\n",
        "# This is the bool type (short for Boolean), with the values True and False\n",
        "b = True\n",
        "c = False\n",
        "\n",
        "# bool operations: and, or, not\n",
        "print (True and True)     # True\n",
        "print (True and False)    # False\n",
        "print (True and True and True and False and True and True)    # False\n",
        "\n",
        "print (True or False)     # True\n",
        "print (False or False or False or True or False or False)   # True\n",
        "print (False or False)    # False\n",
        "\n",
        "print (not True)          # False\n",
        "print (not False)         # True\n",
        "\n",
        "print ()\n",
        "\n",
        "# and, or, and not can actually be used with any types of values\n",
        "\n",
        "# and\n",
        "# False-value and X ~> False-value\n",
        "# True-value and X ~> X\n",
        "\n",
        "# a value that represents nothing is a False-value, e.g., the number 0 (as int or float)\n",
        "# and also any empty container (\"\", [], etc). Also, None is a False-value\n",
        "\n",
        "# Non-empty containers are True-values, e.g., \"hello\", \"0\", [0], etc\n",
        "# Non-zero numbers are True-values, e.g., 24, 0.1, -1, etc\n",
        "\n",
        "print (False and 13)      # False\n",
        "print (False and (1 + \"hello\"))   # False, not an error, because Python doesn't look at X\n",
        "#print (True and (1 + \"hello\"))   # TypeError\n",
        "print (True and \"world\")  # world\n",
        "print (0 and 62)          # 0\n",
        "print (24 and 67 and 12 and \"hello\")    # hello\n",
        "print (0 and False and \"\" and None)     # 0\n",
        "print (14 and 55 and None and 12 and 0)     # None\n",
        "\n",
        "# or\n",
        "# True-value or X ~> True-value\n",
        "# False-value or X ~> X\n",
        "print (38 or \"hello\")   # 38\n",
        "print (38 or False)     # 38\n",
        "print (0 or 12)         # 12\n",
        "print (\"\" or None or [])    # []\n",
        "\n",
        "# not\n",
        "# not True-value ~> False\n",
        "# not False-value ~> True\n",
        "print (not 61)    # False\n",
        "print (not [])    # True\n",
        "\n",
        "# I want to check if a list is empty or if the first value is 25\n",
        "#len (lst) == 0 or lst[0] == 25   # will never be an error, even when lst is empty\n",
        "#lst[0] == 25 or len (lst) == 0   # IndexError when lst is empty\n",
        "\n",
        "print (42 and \"\" or 0 and \"world\")    # 0"
      ]
    },
    {
      "cell_type": "code",
      "source": [
        "# We can also produce bool values through comparison operators\n",
        "print (13 < 4)    # False\n",
        "print (13 > 4)    # True\n",
        "print (13 <= 13)    # True\n",
        "print (13 <= 50)    # True\n",
        "print (13 >= 50)    # False\n",
        "print (13 == 13)    # True\n",
        "print (13 != 13)    # False\n",
        "#print (13 < = 13)    # SyntaxError\n",
        "print(13<=13)\n",
        "\n",
        "# you can compare between different types, except 3 cases:\n",
        "# 1) you can compare numbers\n",
        "# 2) you can compare different types for == and !=.\n",
        "# 3) a comparison function is defined to compare those types\n",
        "\n",
        "#print (13 < \"hello\")   # TypeError\n",
        "print (13 == \"hello\")   # False\n",
        "print (13 == \"13\")      # False\n",
        "print (2.5 < 4)         # True\n",
        "\n",
        "# Collections (strings/lists/tuples/etc) are compared in lexicographical order\n",
        "# compare the first element with the first element\n",
        "# if they are equal, then compare second element with the second element\n",
        "# and so on\n",
        "# the first time they are not equal, return the result of comparing\n",
        "# if one value ends early (while everything so far is equal), the prefix is smaller\n",
        "print (\"cat\" < \"bear\")    # False\n",
        "print (\"cat\" < \"crocodile\")   # True\n",
        "# This resembles the alphabetical ordering as observed in a dictionary, or\n",
        "# the ordering of contacts in your smartphone\n",
        "print (\"cat\" < \"caterpillar\")   # True\n",
        "\n",
        "print (\"Cat\" < \"bear\")      # True\n",
        "print (\"চ\" < \"প\")           # True"
      ],
      "metadata": {
        "colab": {
          "base_uri": "https://localhost:8080/"
        },
        "id": "XDOP7lw6TR_F",
        "outputId": "6f3d20ea-9be9-462f-8f54-61f2f61f54a0"
      },
      "execution_count": null,
      "outputs": [
        {
          "output_type": "stream",
          "name": "stdout",
          "text": [
            "False\n",
            "True\n",
            "True\n",
            "True\n",
            "False\n",
            "True\n",
            "False\n",
            "True\n",
            "False\n",
            "False\n",
            "True\n",
            "False\n",
            "True\n",
            "True\n",
            "True\n",
            "True\n"
          ]
        }
      ]
    },
    {
      "cell_type": "code",
      "source": [
        "# the main applications for bool values is through if and while\n",
        "\n",
        "# Conditional Statements\n",
        "# Syntax:\n",
        "# if [condition]:\n",
        "#   [if-body]\n",
        "#   [if-body]\n",
        "\n",
        "# when the [condition] evaluates to a True-value, Python runs the [if-body]\n",
        "# when the [condition] evaluates to a False-value, Python does not run the [if-body]\n",
        "\n",
        "if 112 < 54:\n",
        "  print (\"hello\")\n",
        "  print (\"world\")\n",
        "print (\"Done\")"
      ],
      "metadata": {
        "colab": {
          "base_uri": "https://localhost:8080/"
        },
        "id": "itVvnbE1YAel",
        "outputId": "142ac08c-3a00-4c27-e88e-b6c0c1f89519"
      },
      "execution_count": null,
      "outputs": [
        {
          "output_type": "stream",
          "name": "stdout",
          "text": [
            "Done\n"
          ]
        }
      ]
    },
    {
      "cell_type": "code",
      "source": [
        "# We can also add else immediately after ending the [if-body]\n",
        "# Syntax:\n",
        "# if [condition]:\n",
        "#   [if-body]\n",
        "#   [if-body]\n",
        "# else:\n",
        "#   [else-body]\n",
        "#   [else-body]\n",
        "\n",
        "# when the [condition] evaluates to a True-value,\n",
        "# Python runs the [if-body] and does NOT run the [else-body]\n",
        "# when the [condition] evaluates to a False-value,\n",
        "# Python runs the [else-body and does NOT run the [if-body]\n",
        "\n",
        "marks = 30\n",
        "if marks < 45:\n",
        "  print (\"You failed :(\")\n",
        "#print (\"Okay\")     # SyntaxError, else must be IMMEDIATELY after the if-body ends\n",
        "\n",
        "\n",
        "\n",
        "else:\n",
        "  print (\"You passed!\")\n",
        "print (\"Done\")"
      ],
      "metadata": {
        "colab": {
          "base_uri": "https://localhost:8080/"
        },
        "id": "vq721rUZZrae",
        "outputId": "d0dc058f-17c3-41b2-fc41-03c3eae927cb"
      },
      "execution_count": null,
      "outputs": [
        {
          "output_type": "stream",
          "name": "stdout",
          "text": [
            "You failed :(\n",
            "Done\n"
          ]
        }
      ]
    },
    {
      "cell_type": "code",
      "source": [
        "marks = 60\n",
        "if marks < 45:\n",
        "  print (\"You failed :(\")\n",
        "else:\n",
        "  if marks >= 90:\n",
        "    print (\"You aced the course!\")\n",
        "  else:\n",
        "    print (\"You passed.\")\n",
        "print (\"Done\")"
      ],
      "metadata": {
        "colab": {
          "base_uri": "https://localhost:8080/"
        },
        "id": "3-RQcapLam8c",
        "outputId": "6fa9ac09-4daf-4150-c27c-7984622df906"
      },
      "execution_count": null,
      "outputs": [
        {
          "output_type": "stream",
          "name": "stdout",
          "text": [
            "You passed.\n",
            "Done\n"
          ]
        }
      ]
    },
    {
      "cell_type": "code",
      "source": [
        "# if the [else-body] contains NOTHING except an if construct (possibly followed by else)\n",
        "# then we can combine the else with the if as elif\n",
        "\n",
        "marks = 60\n",
        "if marks < 45:\n",
        "  print (\"You failed :(\")\n",
        "elif marks >= 90:\n",
        "  print (\"You aced the course!\")\n",
        "else:\n",
        "  print (\"You passed.\")\n",
        "print (\"Done\")\n",
        "\n",
        "# We can chain more elifs as needed. If there is also an else at the end, then\n",
        "# in all situations, exactly one of the blocks will run"
      ],
      "metadata": {
        "colab": {
          "base_uri": "https://localhost:8080/"
        },
        "id": "VhyX865_bNGb",
        "outputId": "4552e2d7-f38b-4277-c910-3d5c9780485a"
      },
      "execution_count": null,
      "outputs": [
        {
          "output_type": "stream",
          "name": "stdout",
          "text": [
            "You passed.\n",
            "Done\n"
          ]
        }
      ]
    },
    {
      "cell_type": "code",
      "source": [
        "# In general, if you have a sequence of conditions to check where you want\n",
        "# exactly one outcome to arise, then use if, followed by one or more elifs, and\n",
        "# ending with else\n",
        "\n",
        "marks = 22\n",
        "if marks < 45:\n",
        "  print (\"You failed :(\")\n",
        "if marks >= 90:\n",
        "  print (\"You aced the course!\")\n",
        "else:\n",
        "  print (\"You passed.\")\n",
        "print (\"Done\")\n",
        "\n",
        "# This does not produce what we want in all cases"
      ],
      "metadata": {
        "colab": {
          "base_uri": "https://localhost:8080/"
        },
        "id": "GGVJWfajb0pu",
        "outputId": "14edf2a6-dcb0-4ff1-8c5b-f5a3579984af"
      },
      "execution_count": null,
      "outputs": [
        {
          "output_type": "stream",
          "name": "stdout",
          "text": [
            "You failed :(\n",
            "You passed.\n",
            "Done\n"
          ]
        }
      ]
    },
    {
      "cell_type": "code",
      "source": [
        "# Loops\n",
        "\n",
        "# Loops are very important for programming because they allow us to properly\n",
        "# utilize the improved efficiency of computers (compared to manual processing)\n",
        "\n",
        "# while constructs appear to be very similar to if constructs\n",
        "# Syntax:\n",
        "# while [condition]:\n",
        "#   [while-body]\n",
        "#   [while-body]\n",
        "# else:\n",
        "#   [else-body]\n",
        "#   [else-body]\n",
        "\n",
        "# As before, else is optional\n",
        "# When the [condition] evaluates to a False-value\n",
        "# Python will run the [else-body], if any, and will NOT run the [while-body]. (same as if)\n",
        "# When the [condition] evalues to a True-value\n",
        "# Python will run the [while-body], and then return back to the [condition]\n",
        "# repeating this process\n",
        "\n",
        "marks = 20      # if you run this with a number < 45, Python would try to run forever\n",
        "while marks < 45:\n",
        "  print (\"You failed :(\")\n",
        "else:\n",
        "  print (\"You passed\")\n",
        "print (\"Done\")"
      ],
      "metadata": {
        "colab": {
          "base_uri": "https://localhost:8080/"
        },
        "id": "rrMtEkPxce6d",
        "outputId": "401f0fd8-81d5-40e9-a828-657fc8d6e0d0"
      },
      "execution_count": null,
      "outputs": [
        {
          "output_type": "stream",
          "name": "stdout",
          "text": [
            "You passed\n",
            "Done\n"
          ]
        }
      ]
    },
    {
      "cell_type": "code",
      "source": [
        "# Good News: we made the computer do a lot of work, while we wrote relatively small code\n",
        "# Bad News: the code ran forever\n",
        "\n",
        "# To prevent the code from running forever, the while-body should generally modify\n",
        "# at least one variable, where these change eventually cause the [condition] to be False\n",
        "\n",
        "x = 7\n",
        "while x < 10:\n",
        "  print (x)\n",
        "  x += 1      # x = x + 1\n",
        "else:\n",
        "  print (\"okay\")\n",
        "print (\"Done\")"
      ],
      "metadata": {
        "colab": {
          "base_uri": "https://localhost:8080/"
        },
        "id": "BinM9wT5edUe",
        "outputId": "590a7167-751b-4abc-fdd9-ca66c88fdea0"
      },
      "execution_count": null,
      "outputs": [
        {
          "output_type": "stream",
          "name": "stdout",
          "text": [
            "7\n",
            "8\n",
            "9\n",
            "okay\n",
            "Done\n"
          ]
        }
      ]
    },
    {
      "cell_type": "code",
      "source": [
        "x = 7\n",
        "while x < 10:\n",
        "  print (x)\n",
        "  x += 1      # x = x + 1\n",
        "print (\"Done\")"
      ],
      "metadata": {
        "colab": {
          "base_uri": "https://localhost:8080/"
        },
        "id": "PlKcdANHgY8F",
        "outputId": "863fb669-4006-45f1-b156-c8a98ff48c59"
      },
      "execution_count": null,
      "outputs": [
        {
          "output_type": "stream",
          "name": "stdout",
          "text": [
            "7\n",
            "8\n",
            "9\n",
            "Done\n"
          ]
        }
      ]
    },
    {
      "cell_type": "code",
      "source": [
        "x = 25\n",
        "while x < 35:\n",
        "  print (\"hello\")\n",
        "  x += 1\n",
        "print (\"Done\")"
      ],
      "metadata": {
        "colab": {
          "base_uri": "https://localhost:8080/"
        },
        "id": "bKOcKI8og5Dm",
        "outputId": "6f955e60-9ee4-4ad9-b0a8-7c0eb0e8c45b"
      },
      "execution_count": null,
      "outputs": [
        {
          "output_type": "stream",
          "name": "stdout",
          "text": [
            "hello\n",
            "hello\n",
            "hello\n",
            "hello\n",
            "hello\n",
            "hello\n",
            "hello\n",
            "hello\n",
            "hello\n",
            "hello\n",
            "Done\n"
          ]
        }
      ]
    },
    {
      "cell_type": "code",
      "source": [
        "# The range [a, b) contains b - a integers\n",
        "# Here, we are including a, but excluding b\n",
        "# This is quite common in many standard Python practices"
      ],
      "metadata": {
        "id": "aDIOx6BrhSUj"
      },
      "execution_count": null,
      "outputs": []
    },
    {
      "cell_type": "code",
      "source": [
        "x = 25\n",
        "while x <= 35:\n",
        "  print (\"hello\")\n",
        "  x += 1\n",
        "print (\"Done\")"
      ],
      "metadata": {
        "colab": {
          "base_uri": "https://localhost:8080/"
        },
        "id": "yDilP7qCnBOi",
        "outputId": "03be34b5-2035-466b-ac77-846d625f6dda"
      },
      "execution_count": null,
      "outputs": [
        {
          "output_type": "stream",
          "name": "stdout",
          "text": [
            "hello\n",
            "hello\n",
            "hello\n",
            "hello\n",
            "hello\n",
            "hello\n",
            "hello\n",
            "hello\n",
            "hello\n",
            "hello\n",
            "hello\n",
            "Done\n"
          ]
        }
      ]
    },
    {
      "cell_type": "code",
      "source": [
        "lst = [13, 87, 22, 49, 60, 47, 81]\n",
        "\n",
        "print (lst)\n",
        "\n",
        "# We want to print each element + 5\n",
        "# lst[0] += 5\n",
        "# lst[1] += 5\n",
        "# lst[2] += 5\n",
        "# ...\n",
        "\n",
        "i = 0\n",
        "while i < 7:\n",
        "  lst[i] += 5   # lst[i] = lst[i] + 5\n",
        "  i += 1        # i = i + 1\n",
        "print (\"Done\")\n",
        "\n",
        "print (lst)"
      ],
      "metadata": {
        "colab": {
          "base_uri": "https://localhost:8080/"
        },
        "id": "TKEk7l4XnfHm",
        "outputId": "4fecfbee-ffb5-4669-8ff6-6742506ae8a7"
      },
      "execution_count": null,
      "outputs": [
        {
          "output_type": "stream",
          "name": "stdout",
          "text": [
            "[13, 87, 22, 49, 60, 47, 81]\n",
            "Done\n",
            "[13, 87, 22, 54, 65, 52, 81]\n"
          ]
        }
      ]
    },
    {
      "cell_type": "code",
      "source": [
        "# Going through every element of a collection (list/string/tuple) is very common\n",
        "# Instead of writing a while loop, we can generally use a for loop instead\n",
        "\n",
        "# Syntax:\n",
        "# for [variablename] in [collection]:\n",
        "#   [for-body]\n",
        "#   [for-body]\n",
        "\n",
        "# The variable with the name [variablename] will take the value of each element\n",
        "# in [collection], ONE AT A TIME\n",
        "# Python assigns [variablename] to the first element of [collection]\n",
        "# and runs the [for-body]\n",
        "# Then Python assigns [variablename] to the second element of [collection]\n",
        "# and runs the [for-body] again\n",
        "# Then Python assigns [variablename] to the third element of [collection]\n",
        "# and runs the [for-body] again\n",
        "# And so on, until we complete the [for-body] for the last element of [collection]\n",
        "\n",
        "for x in [1, 2, 3]:   # x = 1, x = 2, x = 3\n",
        "  print (x)\n",
        "print (\"Done\")"
      ],
      "metadata": {
        "colab": {
          "base_uri": "https://localhost:8080/"
        },
        "id": "MVmVdS1YqJsO",
        "outputId": "2d71e2e8-e8c3-4cf5-9289-0476559a8130"
      },
      "execution_count": null,
      "outputs": [
        {
          "output_type": "stream",
          "name": "stdout",
          "text": [
            "1\n",
            "2\n",
            "3\n",
            "Done\n"
          ]
        }
      ]
    },
    {
      "cell_type": "code",
      "source": [
        "for c in \"python\": # c = 'p', c = 'y', etc\n",
        "  print (c * 5)"
      ],
      "metadata": {
        "colab": {
          "base_uri": "https://localhost:8080/"
        },
        "id": "mH3PD3KzrS1C",
        "outputId": "9b212c0d-2ea7-4651-dc3d-11c5843d37c1"
      },
      "execution_count": null,
      "outputs": [
        {
          "output_type": "stream",
          "name": "stdout",
          "text": [
            "ppppp\n",
            "yyyyy\n",
            "ttttt\n",
            "hhhhh\n",
            "ooooo\n",
            "nnnnn\n"
          ]
        }
      ]
    },
    {
      "cell_type": "code",
      "source": [
        "# print each element + 5\n",
        "\n",
        "lst = [13, 87, 22, 49, 60, 47, 81]\n",
        "\n",
        "for elem in lst:    # elem = 13, elem = 87, elem = 22, ...\n",
        "  print (elem + 5)"
      ],
      "metadata": {
        "colab": {
          "base_uri": "https://localhost:8080/"
        },
        "id": "Q97ZHDdGtp_-",
        "outputId": "19d27af6-a95a-4ce2-83f4-66691410d0ab"
      },
      "execution_count": null,
      "outputs": [
        {
          "output_type": "stream",
          "name": "stdout",
          "text": [
            "18\n",
            "92\n",
            "27\n",
            "54\n",
            "65\n",
            "52\n",
            "86\n"
          ]
        }
      ]
    },
    {
      "cell_type": "code",
      "source": [
        "# update each element by adding +5\n",
        "\n",
        "lst = [13, 87, 22, 49, 60, 47, 81]\n",
        "\n",
        "for elem in lst:    # elem = 13, elem = 87, elem = 22, ...\n",
        "  elem += 5\n",
        "  print (elem)\n",
        "\n",
        "print (lst)   # Values are NOT updated\n",
        "\n",
        "# Updating elem will not update the values of lst\n",
        "# This attempt has FAILED"
      ],
      "metadata": {
        "colab": {
          "base_uri": "https://localhost:8080/"
        },
        "id": "rJ_uH1PauAPt",
        "outputId": "14de29ad-e463-4a29-8a12-e5f904662574"
      },
      "execution_count": null,
      "outputs": [
        {
          "output_type": "stream",
          "name": "stdout",
          "text": [
            "18\n",
            "92\n",
            "27\n",
            "54\n",
            "65\n",
            "52\n",
            "86\n",
            "[13, 87, 22, 49, 60, 47, 81]\n"
          ]
        }
      ]
    },
    {
      "cell_type": "code",
      "source": [
        "# update each element by adding +5\n",
        "\n",
        "lst = [13, 87, 22, 49, 60, 47, 81]\n",
        "\n",
        "# lst[0] += 5\n",
        "# lst[1] += 5\n",
        "# lst[2] += 5\n",
        "# ...\n",
        "\n",
        "for i in [0, 1, 2, 3, 4, 5, 6]:   # i = 0, i = 1, i = 2, ...\n",
        "  lst[i] += 5\n",
        "\n",
        "print (lst)"
      ],
      "metadata": {
        "colab": {
          "base_uri": "https://localhost:8080/"
        },
        "id": "SH_VS34OupBp",
        "outputId": "ce51f3fb-78a3-42c6-e226-50792985d77c"
      },
      "execution_count": null,
      "outputs": [
        {
          "output_type": "stream",
          "name": "stdout",
          "text": [
            "[18, 92, 27, 54, 65, 52, 86]\n"
          ]
        }
      ]
    },
    {
      "cell_type": "code",
      "source": [
        "# In the previous block, we achieved the objective, but we don't want to\n",
        "# manually write all the indices [0, 1, 2, 3, 4, 5, 6]\n",
        "# We can instead use the range type\n",
        "\n",
        "# range (X) will construct a value with type range, whose elements are\n",
        "# 0, 1, 2, 3, ..., X - 1\n",
        "\n",
        "# So range (7) will have the elements 0, 1, 2, 3, 4, 5, 6\n",
        "\n",
        "r = range (7)\n",
        "print (r)\n",
        "rangelst = list (r)\n",
        "print (rangelst)"
      ],
      "metadata": {
        "colab": {
          "base_uri": "https://localhost:8080/"
        },
        "id": "dTvUh7L5vfZa",
        "outputId": "e517f1cb-a36d-4cfa-8219-1f911f19067e"
      },
      "execution_count": null,
      "outputs": [
        {
          "output_type": "stream",
          "name": "stdout",
          "text": [
            "range(0, 7)\n",
            "[0, 1, 2, 3, 4, 5, 6]\n"
          ]
        }
      ]
    },
    {
      "cell_type": "code",
      "source": [
        "# update each element by adding +5\n",
        "\n",
        "lst = [13, 87, 22, 49, 60, 47, 81]\n",
        "\n",
        "for i in range (7):   # i = 0, i = 1, i = 2, ..., i = 6\n",
        "  lst[i] += 5\n",
        "\n",
        "print (lst)"
      ],
      "metadata": {
        "colab": {
          "base_uri": "https://localhost:8080/"
        },
        "id": "PvTdUsQswRR6",
        "outputId": "5422f194-263e-4280-f1c7-f18f0638649d"
      },
      "execution_count": null,
      "outputs": [
        {
          "output_type": "stream",
          "name": "stdout",
          "text": [
            "[18, 92, 27, 54, 65, 52, 86]\n"
          ]
        }
      ]
    },
    {
      "cell_type": "code",
      "source": [
        "# len (X) will return the number of elements in X\n",
        "# it can only be used if X is a collection (list, string, tuple, range, etc)\n",
        "# it does not work if X is not a collection (int, float, bool, NoneType, etc), TypeError\n",
        "\n",
        "# update each element by adding +5\n",
        "\n",
        "lst = [13, 87, 22, 49, 60, 47, 81]\n",
        "\n",
        "for i in range (len (lst)):   # i = 0, i = 1, i = 2, ...\n",
        "  lst[i] += 5\n",
        "\n",
        "print (lst)"
      ],
      "metadata": {
        "colab": {
          "base_uri": "https://localhost:8080/"
        },
        "id": "vONn8qCdwmnD",
        "outputId": "956a61ae-0882-47a0-a082-bef23ea0e1e0"
      },
      "execution_count": null,
      "outputs": [
        {
          "output_type": "stream",
          "name": "stdout",
          "text": [
            "[18, 92, 27, 54, 65, 52, 86]\n"
          ]
        }
      ]
    },
    {
      "cell_type": "code",
      "source": [
        "# Inside a loop (while/for), we can use break or continue statements as well\n",
        "# break: end the loop, and move to the code after the loop body\n",
        "# continue: end the current round, and move back to the loop condition for the next round\n",
        "\n",
        "for x in range (10):\n",
        "  if x == 4:\n",
        "    break\n",
        "  print (x)\n",
        "\n",
        "print (\"Done\")"
      ],
      "metadata": {
        "colab": {
          "base_uri": "https://localhost:8080/"
        },
        "id": "NsF6RgxDw_Re",
        "outputId": "ed43d20f-cdea-42c5-ebf0-8c0d95793489"
      },
      "execution_count": null,
      "outputs": [
        {
          "output_type": "stream",
          "name": "stdout",
          "text": [
            "0\n",
            "1\n",
            "2\n",
            "3\n",
            "Done\n"
          ]
        }
      ]
    },
    {
      "cell_type": "code",
      "source": [
        "for x in range (10):\n",
        "  if x == 4:\n",
        "    continue\n",
        "  print (x)\n",
        "\n",
        "print (\"Done\")"
      ],
      "metadata": {
        "colab": {
          "base_uri": "https://localhost:8080/"
        },
        "id": "OJ2S40mPx3XY",
        "outputId": "723386a2-73c6-4ee5-a198-29a78ee5a5d1"
      },
      "execution_count": null,
      "outputs": [
        {
          "output_type": "stream",
          "name": "stdout",
          "text": [
            "0\n",
            "1\n",
            "2\n",
            "3\n",
            "5\n",
            "6\n",
            "7\n",
            "8\n",
            "9\n",
            "Done\n"
          ]
        }
      ]
    },
    {
      "cell_type": "code",
      "source": [
        "x = 5\n",
        "while x < 100:\n",
        "  if x == 40:\n",
        "    break\n",
        "  print (x)\n",
        "  x *= 2\n",
        "print (\"Done\")"
      ],
      "metadata": {
        "colab": {
          "base_uri": "https://localhost:8080/"
        },
        "id": "QTkFvFSsySXB",
        "outputId": "a4425786-ef4b-435e-eab7-3a211a5b81f7"
      },
      "execution_count": null,
      "outputs": [
        {
          "output_type": "stream",
          "name": "stdout",
          "text": [
            "5\n",
            "10\n",
            "20\n",
            "Done\n"
          ]
        }
      ]
    },
    {
      "cell_type": "code",
      "source": [
        "# WARNING: be very careful with using continue inside a while loop\n",
        "\n",
        "x = 5\n",
        "while x < 100:\n",
        "  if x == 40:\n",
        "    continue\n",
        "  print (x)\n",
        "  x *= 2\n",
        "print (\"Done\")"
      ],
      "metadata": {
        "colab": {
          "base_uri": "https://localhost:8080/",
          "height": 263
        },
        "id": "hJhsbJaEywF7",
        "outputId": "d98f132a-42be-43c5-9bdb-5d6774abc374"
      },
      "execution_count": null,
      "outputs": [
        {
          "output_type": "stream",
          "name": "stdout",
          "text": [
            "5\n",
            "10\n",
            "20\n"
          ]
        },
        {
          "output_type": "error",
          "ename": "KeyboardInterrupt",
          "evalue": "",
          "traceback": [
            "\u001b[0;31m---------------------------------------------------------------------------\u001b[0m",
            "\u001b[0;31mKeyboardInterrupt\u001b[0m                         Traceback (most recent call last)",
            "\u001b[0;32m/tmp/ipython-input-555723737.py\u001b[0m in \u001b[0;36m<cell line: 0>\u001b[0;34m()\u001b[0m\n\u001b[1;32m      4\u001b[0m \u001b[0;32mwhile\u001b[0m \u001b[0mx\u001b[0m \u001b[0;34m<\u001b[0m \u001b[0;36m100\u001b[0m\u001b[0;34m:\u001b[0m\u001b[0;34m\u001b[0m\u001b[0;34m\u001b[0m\u001b[0m\n\u001b[1;32m      5\u001b[0m   \u001b[0;32mif\u001b[0m \u001b[0mx\u001b[0m \u001b[0;34m==\u001b[0m \u001b[0;36m40\u001b[0m\u001b[0;34m:\u001b[0m\u001b[0;34m\u001b[0m\u001b[0;34m\u001b[0m\u001b[0m\n\u001b[0;32m----> 6\u001b[0;31m     \u001b[0;32mcontinue\u001b[0m\u001b[0;34m\u001b[0m\u001b[0;34m\u001b[0m\u001b[0m\n\u001b[0m\u001b[1;32m      7\u001b[0m   \u001b[0mprint\u001b[0m \u001b[0;34m(\u001b[0m\u001b[0mx\u001b[0m\u001b[0;34m)\u001b[0m\u001b[0;34m\u001b[0m\u001b[0;34m\u001b[0m\u001b[0m\n\u001b[1;32m      8\u001b[0m   \u001b[0mx\u001b[0m \u001b[0;34m*=\u001b[0m \u001b[0;36m2\u001b[0m\u001b[0;34m\u001b[0m\u001b[0;34m\u001b[0m\u001b[0m\n",
            "\u001b[0;31mKeyboardInterrupt\u001b[0m: "
          ]
        }
      ]
    },
    {
      "cell_type": "code",
      "source": [
        "x = 5\n",
        "while x < 100:\n",
        "  x *= 2\n",
        "  if x == 40:\n",
        "    continue\n",
        "  print (x)\n",
        "print (\"Done\")"
      ],
      "metadata": {
        "colab": {
          "base_uri": "https://localhost:8080/"
        },
        "id": "5auiDiZMzYw1",
        "outputId": "6660ba64-133f-458b-dfe4-98a762456fa0"
      },
      "execution_count": null,
      "outputs": [
        {
          "output_type": "stream",
          "name": "stdout",
          "text": [
            "10\n",
            "20\n",
            "80\n",
            "160\n",
            "Done\n"
          ]
        }
      ]
    },
    {
      "cell_type": "code",
      "source": [
        "# I want to print before I update x\n",
        "# But when x == 40, I want to update x without printing\n",
        "\n",
        "x = 5\n",
        "while x < 100:\n",
        "  if x == 40:\n",
        "    x *= 2\n",
        "    continue\n",
        "  print (x)\n",
        "  x *= 2\n",
        "print (\"Done\")"
      ],
      "metadata": {
        "colab": {
          "base_uri": "https://localhost:8080/"
        },
        "id": "mY_w5j1kz3Wb",
        "outputId": "1105ec1f-c327-4912-e1b1-6e4274cb87a3"
      },
      "execution_count": null,
      "outputs": [
        {
          "output_type": "stream",
          "name": "stdout",
          "text": [
            "5\n",
            "10\n",
            "20\n",
            "80\n",
            "Done\n"
          ]
        }
      ]
    },
    {
      "cell_type": "code",
      "source": [
        "# We can use else after a for/while loop\n",
        "\n",
        "# else is used to distinguish between whether we left the loop naturally through\n",
        "# the condition, or through a break\n",
        "\n",
        "x = 7\n",
        "while x < 10:\n",
        "  if x < 5:\n",
        "    break\n",
        "  print (x)\n",
        "  x += 1      # x = x + 1\n",
        "else:\n",
        "  print (\"okay\")\n",
        "print (\"Done\")"
      ],
      "metadata": {
        "colab": {
          "base_uri": "https://localhost:8080/"
        },
        "id": "kj9Gr8Kj0mvk",
        "outputId": "17c4afcd-9a30-4212-9b1f-7c421ac1d216"
      },
      "execution_count": null,
      "outputs": [
        {
          "output_type": "stream",
          "name": "stdout",
          "text": [
            "7\n",
            "8\n",
            "9\n",
            "okay\n",
            "Done\n"
          ]
        }
      ]
    },
    {
      "cell_type": "code",
      "source": [
        "lst = [1, 2, -3, 4, 5]\n",
        "\n",
        "for elem in lst:\n",
        "  if elem < 0:\n",
        "    break\n",
        "  print (elem)\n",
        "else:   # we do NOT run the else if we left the loop using break\n",
        "  print (\"There are no negative numbers\")\n",
        "print (\"Done\")"
      ],
      "metadata": {
        "colab": {
          "base_uri": "https://localhost:8080/"
        },
        "id": "Kibg0QKh1yNW",
        "outputId": "500af2b0-2c4e-4386-f954-2eb35f111283"
      },
      "execution_count": null,
      "outputs": [
        {
          "output_type": "stream",
          "name": "stdout",
          "text": [
            "1\n",
            "2\n",
            "Done\n"
          ]
        }
      ]
    },
    {
      "cell_type": "code",
      "source": [
        "# given a number n, print PRIME if it is prime, or print\n",
        "# NOT PRIME if it is not prime\n",
        "\n",
        "n = 61\n",
        "for d in range (2, n):  # d = 2, d = 3, d = 4, ..., d = n - 1\n",
        "  if n % d == 0:\n",
        "    print (\"NOT PRIME\")\n",
        "    break\n",
        "else:\n",
        "  print (\"PRIME\")"
      ],
      "metadata": {
        "colab": {
          "base_uri": "https://localhost:8080/"
        },
        "id": "sbwMiy-F2k3F",
        "outputId": "fff83ab5-9e2a-4dc9-c716-47b65d1c1bae"
      },
      "execution_count": null,
      "outputs": [
        {
          "output_type": "stream",
          "name": "stdout",
          "text": [
            "PRIME\n"
          ]
        }
      ]
    }
  ]
}