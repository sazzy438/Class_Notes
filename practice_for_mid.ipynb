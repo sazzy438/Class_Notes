{
  "nbformat": 4,
  "nbformat_minor": 0,
  "metadata": {
    "colab": {
      "provenance": [],
      "authorship_tag": "ABX9TyNGLsX3PmjeiE/lwZPofQF/",
      "include_colab_link": true
    },
    "kernelspec": {
      "name": "python3",
      "display_name": "Python 3"
    },
    "language_info": {
      "name": "python"
    }
  },
  "cells": [
    {
      "cell_type": "markdown",
      "metadata": {
        "id": "view-in-github",
        "colab_type": "text"
      },
      "source": [
        "<a href=\"https://colab.research.google.com/github/sazzy438/Class_Notes/blob/main/practice_for_mid.ipynb\" target=\"_parent\"><img src=\"https://colab.research.google.com/assets/colab-badge.svg\" alt=\"Open In Colab\"/></a>"
      ]
    },
    {
      "cell_type": "code",
      "execution_count": 11,
      "metadata": {
        "colab": {
          "base_uri": "https://localhost:8080/"
        },
        "id": "3aAuz4Xb4LbI",
        "outputId": "e74b9489-23ce-4aa8-e9f3-7bd292f569c0"
      },
      "outputs": [
        {
          "output_type": "stream",
          "name": "stdout",
          "text": [
            "Average:  6.5\n"
          ]
        }
      ],
      "source": [
        "class SingleyLinkedList:\n",
        "  def __init__(self,data):\n",
        "    self.data = data\n",
        "    self.next = None\n",
        "\n",
        "  def getAverage(head):\n",
        "    curr = head\n",
        "    total = 0\n",
        "    count = 0\n",
        "\n",
        "    while curr != None:\n",
        "      total += curr.data\n",
        "      count += 1\n",
        "      curr = curr.next\n",
        "\n",
        "    avg = total / count\n",
        "\n",
        "    return avg\n",
        "\n",
        "\n",
        "SLL = SingleyLinkedList\n",
        "head = SLL(5)\n",
        "head.next = SLL(6)\n",
        "head.next.next = SLL(7)\n",
        "head.next.next.next = SLL(8)\n",
        "\n",
        "avg = SLL.getAverage(head)\n",
        "\n",
        "print(\"Average: \", avg)"
      ]
    },
    {
      "cell_type": "code",
      "source": [
        "class SLL:\n",
        "  def __init__(self,value):\n",
        "    self.data = value\n",
        "    self.next = None\n",
        "  def numOfOccurrences(self, head, value):\n",
        "    curr = head\n",
        "\n",
        "    count = 0\n",
        "\n",
        "    while curr != None:\n",
        "      if curr.data == value:\n",
        "        count += 1\n",
        "      curr = curr.next\n",
        "\n",
        "    return count\n",
        "\n",
        "\n",
        "head = SLL(5)\n",
        "head.next = SLL(6)\n",
        "head.next.next = SLL(6)\n",
        "head.next.next.next = SLL(8)\n",
        "count = head.numOfOccurrences(head, 6)\n",
        "print(\"Num of Occurences: \", count)"
      ],
      "metadata": {
        "colab": {
          "base_uri": "https://localhost:8080/"
        },
        "id": "NK8I0zr7hKEP",
        "outputId": "aa60496e-44e4-4535-8720-7e902353fb67"
      },
      "execution_count": 19,
      "outputs": [
        {
          "output_type": "stream",
          "name": "stdout",
          "text": [
            "Num of Occurences:  2\n"
          ]
        }
      ]
    },
    {
      "cell_type": "code",
      "source": [
        "class DLL:\n",
        "  def __init__(self,data, prev = None, next = None):\n",
        "    self.data = data\n",
        "    self.next = next\n",
        "    self.prev = prev\n",
        "\n",
        "class DoublyLinkedList:\n",
        "  def __init__(self):\n",
        "    self.head = None\n",
        "    self.tail = None\n",
        "\n",
        "  def isSymmetric(self, head, tail):\n",
        "    lft = head\n",
        "    rgt = tail\n",
        "\n",
        "    while lft != None and rgt != None:\n",
        "      if lft.data != rgt.data:\n",
        "        return False\n",
        "      lft = lft.next\n",
        "      rgt = rgt.prev\n",
        "\n",
        "\n",
        "    return True\n",
        "\n",
        "dll = DoublyLinkedList()\n",
        "a1 = DLL(1); b1 = DLL(2); c1 = DLL(3); d1 = DLL(2); e1 = DLL(1)\n",
        "a1.next = b1; b1.prev = a1\n",
        "b1.next = c1; c1.prev = b1\n",
        "c1.next = d1; d1.prev = c1\n",
        "d1.next = e1; e1.prev = d1\n",
        "print(\"odd symmetric:\", dll.isSymmetric(a1, e1))"
      ],
      "metadata": {
        "colab": {
          "base_uri": "https://localhost:8080/"
        },
        "id": "3K5hou2GIXG1",
        "outputId": "5a48efd7-712c-4cb5-8ee9-a2d5d8284f54"
      },
      "execution_count": 20,
      "outputs": [
        {
          "output_type": "stream",
          "name": "stdout",
          "text": [
            "odd symmetric: True\n"
          ]
        }
      ]
    }
  ]
}