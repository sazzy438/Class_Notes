{
  "nbformat": 4,
  "nbformat_minor": 0,
  "metadata": {
    "colab": {
      "provenance": [],
      "include_colab_link": true
    },
    "kernelspec": {
      "name": "python3",
      "display_name": "Python 3"
    },
    "language_info": {
      "name": "python"
    }
  },
  "cells": [
    {
      "cell_type": "markdown",
      "metadata": {
        "id": "view-in-github",
        "colab_type": "text"
      },
      "source": [
        "<a href=\"https://colab.research.google.com/github/sazzy438/Class_Notes/blob/main/10_22.ipynb\" target=\"_parent\"><img src=\"https://colab.research.google.com/assets/colab-badge.svg\" alt=\"Open In Colab\"/></a>"
      ]
    },
    {
      "cell_type": "code",
      "execution_count": null,
      "metadata": {
        "id": "jajz0U0Poo60"
      },
      "outputs": [],
      "source": [
        "# Summer 2024, Q2a\n",
        "\n",
        "# i. 6\n",
        "# ii. 0\n",
        "# iii. 6\n",
        "# iv. 0\n",
        "# v. 21\n",
        "\n",
        "# In general, fun (n, k) returns (k % n) * 3"
      ]
    },
    {
      "cell_type": "code",
      "source": [
        "# alternative version of appendafter\n",
        "def appendafter (self, nd, x):\n",
        "  newnd = SLLNode (x)\n",
        "  before = nd\n",
        "  after = nd.next\n",
        "  before.next = newnd\n",
        "  newnd.next = after"
      ],
      "metadata": {
        "id": "kxgbVFe-wOS4"
      },
      "execution_count": null,
      "outputs": []
    },
    {
      "cell_type": "code",
      "source": [
        "# For singly-linked lists, the tail and size fields are optional\n",
        "# For stacks and queues, the size field is optional\n",
        "\n",
        "# For linked lists, you cannot assume there are any built-in\n",
        "# methods (unless specified otherwise)\n",
        "# There is no appendleft, appendright, popleft, popright, appendafter, popafter\n",
        "\n",
        "# For stacks, there are four buit-in methods: push, pop, peek, isEmpty\n",
        "# For queues, there are four buit-in methods: enqueue, dequeue, peek, isEmpty\n",
        "\n"
      ],
      "metadata": {
        "id": "tOSMVAuDz9ki"
      },
      "execution_count": null,
      "outputs": []
    },
    {
      "cell_type": "code",
      "source": [
        "# Lab Practice Linked Lists Q3\n",
        "# Given two linked lists, check if they are equal. The lists are equal\n",
        "# if and only if they have the same number of nodes and\n",
        "# corresponding nodes contain the same data\n",
        "\n",
        "def isEqual (sll1, sll2):\n",
        "  if sll1.size != sll2.size:\n",
        "    return False\n",
        "  curr1 = sll1.head\n",
        "  curr2 = sll2.head\n",
        "  while curr1 != None:\n",
        "    if curr1.data != curr2.data:\n",
        "      return False\n",
        "    curr1 = curr1.next\n",
        "    curr2 = curr2.next\n",
        "  return True"
      ],
      "metadata": {
        "id": "_74vSSSD1vya"
      },
      "execution_count": null,
      "outputs": []
    },
    {
      "cell_type": "code",
      "source": [
        "# Before we consider designing a type for the entire structure,\n",
        "# we should first design a type for a single element alone\n",
        "# (which has two components)\n",
        "\n",
        "class SLLNode:    # SLL stands for Singly-Linked List\n",
        "  def __init__ (self, dt, nx = None):\n",
        "    self.data = dt\n",
        "    self.next = nx\n",
        "\n",
        "    # In general, try to be aware of the types for all variables\n",
        "    # and objects\n",
        "    # self : SLLNode\n",
        "    # self.data : anything, but usually int\n",
        "    # self.next : SLLNode, or None\n",
        "\n",
        "# let's update the SinglyLinkedList class with some methods\n",
        "\n",
        "class SinglyLinkedList:\n",
        "  def __init__ (self):\n",
        "    self.head = None    # None means the SLL is empty\n",
        "\n",
        "  # to check if a LL is empty or not, simply check if self.head == None\n",
        "\n",
        "  # we want to add a node with data x to the start of the LL\n",
        "  def appendleft (self, x):\n",
        "    if self.head == None:     # check if SLL is empty\n",
        "      newnd = SLLNode (x)     # construct a new node with data x\n",
        "      self.head = newnd       # make this new node the LL head\n",
        "    else:\n",
        "      newnd = SLLNode (x)     # construct a new node with data x\n",
        "      newnd.next = self.head  # connect the new node to the old head\n",
        "      self.head = newnd       # new node becomes the head\n",
        "      # The order is important\n",
        "      # if we make the new node the head before we set its next value,\n",
        "      # then we will lose access to the old head\n",
        "\n",
        "  # remove the first element of the LL\n",
        "  # assume that the LL is non-empty\n",
        "  def popleft (self):\n",
        "    self.head = self.head.next\n",
        "\n",
        "  # add an element with data x after the node nd\n",
        "  def appendafter (self, nd, x):\n",
        "    newnd = SLLNode (x)\n",
        "    newnd.next = nd.next\n",
        "    nd.next = newnd\n",
        "\n",
        "  # remove the element after the node nd\n",
        "  # assume that there is a node after nd\n",
        "  def popafter (self, nd):\n",
        "    nd.next = nd.next.next\n",
        "\n",
        "  # return the node at index idx\n",
        "  # This can be very slow if idx is very large\n",
        "  def checkindex (self, idx):\n",
        "    # we have to loop from the head to the next element\n",
        "    # and then the next, and so on\n",
        "    # a total of idx times\n",
        "    curr = self.head\n",
        "    for i in range (idx):\n",
        "      curr = curr.next\n",
        "    return curr\n",
        "\n",
        "\n",
        "  \"\"\"General Template to iterate over a Linked List (Singly/Doubly)\n",
        "  curr = self.head\n",
        "  while curr != None:\n",
        "    # do something with curr\n",
        "    curr = curr.next\n",
        "  # \"\"\"\n",
        "\n",
        "  def printall (self):\n",
        "    curr = self.head\n",
        "    while curr != None:\n",
        "      print (curr.data, end = \" \")\n",
        "      curr = curr.next\n",
        "    print ()\n",
        "\n",
        "  # this runs when we try to convert a SinglyLinkedList into a str\n",
        "  # including when we try to print it\n",
        "  def __str__ (self):\n",
        "    ans = \"\"\n",
        "    curr = self.head\n",
        "    while curr != None:\n",
        "      ans += str (curr.data) + \" -> \"\n",
        "      curr = curr.next\n",
        "    return ans"
      ],
      "metadata": {
        "id": "9FXw32qe4K-f"
      },
      "execution_count": null,
      "outputs": []
    },
    {
      "cell_type": "code",
      "source": [
        "sll1 = SinglyLinkedList ()\n",
        "sll2 = SinglyLinkedList ()\n",
        "sll1.appendleft (4)\n",
        "sll2.appendleft (8)\n",
        "sll2.appendleft (4)\n",
        "print (isEqual (sll1, sll2))"
      ],
      "metadata": {
        "colab": {
          "base_uri": "https://localhost:8080/"
        },
        "id": "Wm4VMAJA4NU2",
        "outputId": "09c8ce5b-7116-4d83-9e56-5380effc0968"
      },
      "execution_count": null,
      "outputs": [
        {
          "output_type": "stream",
          "name": "stdout",
          "text": [
            "True\n"
          ]
        }
      ]
    }
  ]
}