{
  "nbformat": 4,
  "nbformat_minor": 0,
  "metadata": {
    "colab": {
      "provenance": [],
      "include_colab_link": true
    },
    "kernelspec": {
      "name": "python3",
      "display_name": "Python 3"
    },
    "language_info": {
      "name": "python"
    }
  },
  "cells": [
    {
      "cell_type": "markdown",
      "metadata": {
        "id": "view-in-github",
        "colab_type": "text"
      },
      "source": [
        "<a href=\"https://colab.research.google.com/github/sazzy438/Class_Notes/blob/main/10_27.ipynb\" target=\"_parent\"><img src=\"https://colab.research.google.com/assets/colab-badge.svg\" alt=\"Open In Colab\"/></a>"
      ]
    },
    {
      "cell_type": "code",
      "execution_count": null,
      "metadata": {
        "colab": {
          "base_uri": "https://localhost:8080/"
        },
        "id": "Ohgg0HbpY0BR",
        "outputId": "a0189bdd-54e6-4d72-a162-01b39b15b8fa"
      },
      "outputs": [
        {
          "output_type": "stream",
          "name": "stdout",
          "text": [
            "8\n"
          ]
        }
      ],
      "source": [
        "def fun1 (x):\n",
        "  return x + 3\n",
        "\n",
        "print (fun1 (5))    # 8"
      ]
    },
    {
      "cell_type": "code",
      "source": [
        "def fun1 (x):\n",
        "  return fun2 (x) + 3\n",
        "\n",
        "def fun2 (x):\n",
        "  return 2 * x\n",
        "\n",
        "print (fun1 (5))    # 13"
      ],
      "metadata": {
        "colab": {
          "base_uri": "https://localhost:8080/"
        },
        "id": "MwbZPDLYdh4j",
        "outputId": "81de04cf-b982-46bb-9fa2-cd76a9624daa"
      },
      "execution_count": null,
      "outputs": [
        {
          "output_type": "stream",
          "name": "stdout",
          "text": [
            "13\n"
          ]
        }
      ]
    },
    {
      "cell_type": "code",
      "source": [
        "def fun1 (x):\n",
        "  return fun2 (x - 1) + 3\n",
        "\n",
        "def fun2 (x):\n",
        "  return 2 * x\n",
        "\n",
        "print (fun1 (5))    # 11"
      ],
      "metadata": {
        "colab": {
          "base_uri": "https://localhost:8080/"
        },
        "id": "zsxBVut8ezp-",
        "outputId": "3c1adb6f-2f3f-431a-ebb3-a799e8881185"
      },
      "execution_count": null,
      "outputs": [
        {
          "output_type": "stream",
          "name": "stdout",
          "text": [
            "11\n"
          ]
        }
      ]
    },
    {
      "cell_type": "code",
      "source": [
        "def fun1 (x):\n",
        "  return fun2 (x - 1) + 3\n",
        "\n",
        "def fun2 (x):\n",
        "  return 2 * fun3 (x + 20)\n",
        "\n",
        "def fun3 (x):\n",
        "  return x // 3\n",
        "\n",
        "print (fun1 (5))    # 19"
      ],
      "metadata": {
        "colab": {
          "base_uri": "https://localhost:8080/"
        },
        "id": "cjOThcjBfqyM",
        "outputId": "797dd315-dd09-459c-c326-eeb69e1db6fc"
      },
      "execution_count": null,
      "outputs": [
        {
          "output_type": "stream",
          "name": "stdout",
          "text": [
            "19\n"
          ]
        }
      ]
    },
    {
      "cell_type": "code",
      "source": [
        "def fun1 (x):\n",
        "  return fun2 (x - 1) + 3\n",
        "\n",
        "def fun2 (x):\n",
        "  return 2 * fun3 (x + 20)\n",
        "\n",
        "def fun3 (x):\n",
        "  return fun1 (x - 15) // 3\n",
        "\n",
        "print (fun1 (5))    # runs forever (until Python complains)"
      ],
      "metadata": {
        "colab": {
          "base_uri": "https://localhost:8080/",
          "height": 356
        },
        "id": "z6iY1TvniBh8",
        "outputId": "51b054e7-b8f5-46ef-cd43-f05c5ac384ca"
      },
      "execution_count": null,
      "outputs": [
        {
          "output_type": "error",
          "ename": "RecursionError",
          "evalue": "maximum recursion depth exceeded",
          "traceback": [
            "\u001b[0;31m---------------------------------------------------------------------------\u001b[0m",
            "\u001b[0;31mRecursionError\u001b[0m                            Traceback (most recent call last)",
            "\u001b[0;32m/tmp/ipython-input-3959475768.py\u001b[0m in \u001b[0;36m<cell line: 0>\u001b[0;34m()\u001b[0m\n\u001b[1;32m      8\u001b[0m   \u001b[0;32mreturn\u001b[0m \u001b[0mfun1\u001b[0m \u001b[0;34m(\u001b[0m\u001b[0mx\u001b[0m \u001b[0;34m-\u001b[0m \u001b[0;36m15\u001b[0m\u001b[0;34m)\u001b[0m \u001b[0;34m//\u001b[0m \u001b[0;36m3\u001b[0m\u001b[0;34m\u001b[0m\u001b[0;34m\u001b[0m\u001b[0m\n\u001b[1;32m      9\u001b[0m \u001b[0;34m\u001b[0m\u001b[0m\n\u001b[0;32m---> 10\u001b[0;31m \u001b[0mprint\u001b[0m \u001b[0;34m(\u001b[0m\u001b[0mfun1\u001b[0m \u001b[0;34m(\u001b[0m\u001b[0;36m5\u001b[0m\u001b[0;34m)\u001b[0m\u001b[0;34m)\u001b[0m    \u001b[0;31m# 9? infinity? error? 48? 50?\u001b[0m\u001b[0;34m\u001b[0m\u001b[0;34m\u001b[0m\u001b[0m\n\u001b[0m",
            "\u001b[0;32m/tmp/ipython-input-3959475768.py\u001b[0m in \u001b[0;36mfun1\u001b[0;34m(x)\u001b[0m\n\u001b[1;32m      1\u001b[0m \u001b[0;32mdef\u001b[0m \u001b[0mfun1\u001b[0m \u001b[0;34m(\u001b[0m\u001b[0mx\u001b[0m\u001b[0;34m)\u001b[0m\u001b[0;34m:\u001b[0m\u001b[0;34m\u001b[0m\u001b[0;34m\u001b[0m\u001b[0m\n\u001b[0;32m----> 2\u001b[0;31m   \u001b[0;32mreturn\u001b[0m \u001b[0mfun2\u001b[0m \u001b[0;34m(\u001b[0m\u001b[0mx\u001b[0m \u001b[0;34m-\u001b[0m \u001b[0;36m1\u001b[0m\u001b[0;34m)\u001b[0m \u001b[0;34m+\u001b[0m \u001b[0;36m3\u001b[0m\u001b[0;34m\u001b[0m\u001b[0;34m\u001b[0m\u001b[0m\n\u001b[0m\u001b[1;32m      3\u001b[0m \u001b[0;34m\u001b[0m\u001b[0m\n\u001b[1;32m      4\u001b[0m \u001b[0;32mdef\u001b[0m \u001b[0mfun2\u001b[0m \u001b[0;34m(\u001b[0m\u001b[0mx\u001b[0m\u001b[0;34m)\u001b[0m\u001b[0;34m:\u001b[0m\u001b[0;34m\u001b[0m\u001b[0;34m\u001b[0m\u001b[0m\n\u001b[1;32m      5\u001b[0m   \u001b[0;32mreturn\u001b[0m \u001b[0;36m2\u001b[0m \u001b[0;34m*\u001b[0m \u001b[0mfun3\u001b[0m \u001b[0;34m(\u001b[0m\u001b[0mx\u001b[0m \u001b[0;34m+\u001b[0m \u001b[0;36m20\u001b[0m\u001b[0;34m)\u001b[0m\u001b[0;34m\u001b[0m\u001b[0;34m\u001b[0m\u001b[0m\n",
            "\u001b[0;32m/tmp/ipython-input-3959475768.py\u001b[0m in \u001b[0;36mfun2\u001b[0;34m(x)\u001b[0m\n\u001b[1;32m      3\u001b[0m \u001b[0;34m\u001b[0m\u001b[0m\n\u001b[1;32m      4\u001b[0m \u001b[0;32mdef\u001b[0m \u001b[0mfun2\u001b[0m \u001b[0;34m(\u001b[0m\u001b[0mx\u001b[0m\u001b[0;34m)\u001b[0m\u001b[0;34m:\u001b[0m\u001b[0;34m\u001b[0m\u001b[0;34m\u001b[0m\u001b[0m\n\u001b[0;32m----> 5\u001b[0;31m   \u001b[0;32mreturn\u001b[0m \u001b[0;36m2\u001b[0m \u001b[0;34m*\u001b[0m \u001b[0mfun3\u001b[0m \u001b[0;34m(\u001b[0m\u001b[0mx\u001b[0m \u001b[0;34m+\u001b[0m \u001b[0;36m20\u001b[0m\u001b[0;34m)\u001b[0m\u001b[0;34m\u001b[0m\u001b[0;34m\u001b[0m\u001b[0m\n\u001b[0m\u001b[1;32m      6\u001b[0m \u001b[0;34m\u001b[0m\u001b[0m\n\u001b[1;32m      7\u001b[0m \u001b[0;32mdef\u001b[0m \u001b[0mfun3\u001b[0m \u001b[0;34m(\u001b[0m\u001b[0mx\u001b[0m\u001b[0;34m)\u001b[0m\u001b[0;34m:\u001b[0m\u001b[0;34m\u001b[0m\u001b[0;34m\u001b[0m\u001b[0m\n",
            "\u001b[0;32m/tmp/ipython-input-3959475768.py\u001b[0m in \u001b[0;36mfun3\u001b[0;34m(x)\u001b[0m\n\u001b[1;32m      6\u001b[0m \u001b[0;34m\u001b[0m\u001b[0m\n\u001b[1;32m      7\u001b[0m \u001b[0;32mdef\u001b[0m \u001b[0mfun3\u001b[0m \u001b[0;34m(\u001b[0m\u001b[0mx\u001b[0m\u001b[0;34m)\u001b[0m\u001b[0;34m:\u001b[0m\u001b[0;34m\u001b[0m\u001b[0;34m\u001b[0m\u001b[0m\n\u001b[0;32m----> 8\u001b[0;31m   \u001b[0;32mreturn\u001b[0m \u001b[0mfun1\u001b[0m \u001b[0;34m(\u001b[0m\u001b[0mx\u001b[0m \u001b[0;34m-\u001b[0m \u001b[0;36m15\u001b[0m\u001b[0;34m)\u001b[0m \u001b[0;34m//\u001b[0m \u001b[0;36m3\u001b[0m\u001b[0;34m\u001b[0m\u001b[0;34m\u001b[0m\u001b[0m\n\u001b[0m\u001b[1;32m      9\u001b[0m \u001b[0;34m\u001b[0m\u001b[0m\n\u001b[1;32m     10\u001b[0m \u001b[0mprint\u001b[0m \u001b[0;34m(\u001b[0m\u001b[0mfun1\u001b[0m \u001b[0;34m(\u001b[0m\u001b[0;36m5\u001b[0m\u001b[0;34m)\u001b[0m\u001b[0;34m)\u001b[0m    \u001b[0;31m# 9? infinity? error? 48? 50?\u001b[0m\u001b[0;34m\u001b[0m\u001b[0;34m\u001b[0m\u001b[0m\n",
            "... last 3 frames repeated, from the frame below ...\n",
            "\u001b[0;32m/tmp/ipython-input-3959475768.py\u001b[0m in \u001b[0;36mfun1\u001b[0;34m(x)\u001b[0m\n\u001b[1;32m      1\u001b[0m \u001b[0;32mdef\u001b[0m \u001b[0mfun1\u001b[0m \u001b[0;34m(\u001b[0m\u001b[0mx\u001b[0m\u001b[0;34m)\u001b[0m\u001b[0;34m:\u001b[0m\u001b[0;34m\u001b[0m\u001b[0;34m\u001b[0m\u001b[0m\n\u001b[0;32m----> 2\u001b[0;31m   \u001b[0;32mreturn\u001b[0m \u001b[0mfun2\u001b[0m \u001b[0;34m(\u001b[0m\u001b[0mx\u001b[0m \u001b[0;34m-\u001b[0m \u001b[0;36m1\u001b[0m\u001b[0;34m)\u001b[0m \u001b[0;34m+\u001b[0m \u001b[0;36m3\u001b[0m\u001b[0;34m\u001b[0m\u001b[0;34m\u001b[0m\u001b[0m\n\u001b[0m\u001b[1;32m      3\u001b[0m \u001b[0;34m\u001b[0m\u001b[0m\n\u001b[1;32m      4\u001b[0m \u001b[0;32mdef\u001b[0m \u001b[0mfun2\u001b[0m \u001b[0;34m(\u001b[0m\u001b[0mx\u001b[0m\u001b[0;34m)\u001b[0m\u001b[0;34m:\u001b[0m\u001b[0;34m\u001b[0m\u001b[0;34m\u001b[0m\u001b[0m\n\u001b[1;32m      5\u001b[0m   \u001b[0;32mreturn\u001b[0m \u001b[0;36m2\u001b[0m \u001b[0;34m*\u001b[0m \u001b[0mfun3\u001b[0m \u001b[0;34m(\u001b[0m\u001b[0mx\u001b[0m \u001b[0;34m+\u001b[0m \u001b[0;36m20\u001b[0m\u001b[0;34m)\u001b[0m\u001b[0;34m\u001b[0m\u001b[0;34m\u001b[0m\u001b[0m\n",
            "\u001b[0;31mRecursionError\u001b[0m: maximum recursion depth exceeded"
          ]
        }
      ]
    },
    {
      "cell_type": "code",
      "source": [
        "# when a function calls itself, this is known as recursion\n",
        "\n",
        "# Like loops, recursion is a powerful tool for making the computer\n",
        "# do a lot of work using relatively short code\n",
        "# But we also have to be careful, since recursion may result\n",
        "# in infinite computation"
      ],
      "metadata": {
        "id": "ye31TUajkEzl"
      },
      "execution_count": null,
      "outputs": []
    },
    {
      "cell_type": "code",
      "source": [
        "def fun1 (x):\n",
        "  return fun1 (x - 1) + 3\n",
        "\n",
        "print (fun1 (5))    # runs forever (until Python complains)"
      ],
      "metadata": {
        "colab": {
          "base_uri": "https://localhost:8080/",
          "height": 339
        },
        "id": "nbYqyqGckvw6",
        "outputId": "bdb9fac4-7e1e-492c-9375-bb25be25fd1b"
      },
      "execution_count": null,
      "outputs": [
        {
          "output_type": "error",
          "ename": "RecursionError",
          "evalue": "maximum recursion depth exceeded",
          "traceback": [
            "\u001b[0;31m---------------------------------------------------------------------------\u001b[0m",
            "\u001b[0;31mRecursionError\u001b[0m                            Traceback (most recent call last)",
            "\u001b[0;32m/tmp/ipython-input-3054446883.py\u001b[0m in \u001b[0;36m<cell line: 0>\u001b[0;34m()\u001b[0m\n\u001b[1;32m      2\u001b[0m   \u001b[0;32mreturn\u001b[0m \u001b[0mfun1\u001b[0m \u001b[0;34m(\u001b[0m\u001b[0mx\u001b[0m \u001b[0;34m-\u001b[0m \u001b[0;36m1\u001b[0m\u001b[0;34m)\u001b[0m \u001b[0;34m+\u001b[0m \u001b[0;36m3\u001b[0m\u001b[0;34m\u001b[0m\u001b[0;34m\u001b[0m\u001b[0m\n\u001b[1;32m      3\u001b[0m \u001b[0;34m\u001b[0m\u001b[0m\n\u001b[0;32m----> 4\u001b[0;31m \u001b[0mprint\u001b[0m \u001b[0;34m(\u001b[0m\u001b[0mfun1\u001b[0m \u001b[0;34m(\u001b[0m\u001b[0;36m5\u001b[0m\u001b[0;34m)\u001b[0m\u001b[0;34m)\u001b[0m    \u001b[0;31m# 4? 7? error?\u001b[0m\u001b[0;34m\u001b[0m\u001b[0;34m\u001b[0m\u001b[0m\n\u001b[0m",
            "\u001b[0;32m/tmp/ipython-input-3054446883.py\u001b[0m in \u001b[0;36mfun1\u001b[0;34m(x)\u001b[0m\n\u001b[1;32m      1\u001b[0m \u001b[0;32mdef\u001b[0m \u001b[0mfun1\u001b[0m \u001b[0;34m(\u001b[0m\u001b[0mx\u001b[0m\u001b[0;34m)\u001b[0m\u001b[0;34m:\u001b[0m\u001b[0;34m\u001b[0m\u001b[0;34m\u001b[0m\u001b[0m\n\u001b[0;32m----> 2\u001b[0;31m   \u001b[0;32mreturn\u001b[0m \u001b[0mfun1\u001b[0m \u001b[0;34m(\u001b[0m\u001b[0mx\u001b[0m \u001b[0;34m-\u001b[0m \u001b[0;36m1\u001b[0m\u001b[0;34m)\u001b[0m \u001b[0;34m+\u001b[0m \u001b[0;36m3\u001b[0m\u001b[0;34m\u001b[0m\u001b[0;34m\u001b[0m\u001b[0m\n\u001b[0m\u001b[1;32m      3\u001b[0m \u001b[0;34m\u001b[0m\u001b[0m\n\u001b[1;32m      4\u001b[0m \u001b[0mprint\u001b[0m \u001b[0;34m(\u001b[0m\u001b[0mfun1\u001b[0m \u001b[0;34m(\u001b[0m\u001b[0;36m5\u001b[0m\u001b[0;34m)\u001b[0m\u001b[0;34m)\u001b[0m    \u001b[0;31m# 4? 7? error?\u001b[0m\u001b[0;34m\u001b[0m\u001b[0;34m\u001b[0m\u001b[0m\n",
            "... last 1 frames repeated, from the frame below ...\n",
            "\u001b[0;32m/tmp/ipython-input-3054446883.py\u001b[0m in \u001b[0;36mfun1\u001b[0;34m(x)\u001b[0m\n\u001b[1;32m      1\u001b[0m \u001b[0;32mdef\u001b[0m \u001b[0mfun1\u001b[0m \u001b[0;34m(\u001b[0m\u001b[0mx\u001b[0m\u001b[0;34m)\u001b[0m\u001b[0;34m:\u001b[0m\u001b[0;34m\u001b[0m\u001b[0;34m\u001b[0m\u001b[0m\n\u001b[0;32m----> 2\u001b[0;31m   \u001b[0;32mreturn\u001b[0m \u001b[0mfun1\u001b[0m \u001b[0;34m(\u001b[0m\u001b[0mx\u001b[0m \u001b[0;34m-\u001b[0m \u001b[0;36m1\u001b[0m\u001b[0;34m)\u001b[0m \u001b[0;34m+\u001b[0m \u001b[0;36m3\u001b[0m\u001b[0;34m\u001b[0m\u001b[0;34m\u001b[0m\u001b[0m\n\u001b[0m\u001b[1;32m      3\u001b[0m \u001b[0;34m\u001b[0m\u001b[0m\n\u001b[1;32m      4\u001b[0m \u001b[0mprint\u001b[0m \u001b[0;34m(\u001b[0m\u001b[0mfun1\u001b[0m \u001b[0;34m(\u001b[0m\u001b[0;36m5\u001b[0m\u001b[0;34m)\u001b[0m\u001b[0;34m)\u001b[0m    \u001b[0;31m# 4? 7? error?\u001b[0m\u001b[0;34m\u001b[0m\u001b[0;34m\u001b[0m\u001b[0m\n",
            "\u001b[0;31mRecursionError\u001b[0m: maximum recursion depth exceeded"
          ]
        }
      ]
    },
    {
      "cell_type": "code",
      "source": [
        "# How do we write a recursive function that does NOT run forever?\n",
        "# We would have to include at least one base case\n",
        "# Base Case: a scenario where the function does NOT call itself"
      ],
      "metadata": {
        "id": "eAl7eeoOmAbM"
      },
      "execution_count": null,
      "outputs": []
    },
    {
      "cell_type": "code",
      "source": [
        "def fun1 (x):\n",
        "  if x == 0:\n",
        "    return 7\n",
        "  return fun1 (x - 1) + 3\n",
        "\n",
        "print (fun1 (5))    # 22\n",
        "print (fun1 (2))    # 13\n",
        "print (fun1 (100))  # 307\n",
        "\n",
        "# x = 0 is a base case for fun1\n",
        "# x = 1 is NOT a base case for fun1\n",
        "# x = 2, 3, 4, etc are NOT base cases for fun1"
      ],
      "metadata": {
        "colab": {
          "base_uri": "https://localhost:8080/"
        },
        "id": "RHx8qVKPmKwR",
        "outputId": "bae4397b-26a6-4388-e4e7-6a9e4ce62897"
      },
      "execution_count": null,
      "outputs": [
        {
          "output_type": "stream",
          "name": "stdout",
          "text": [
            "22\n",
            "13\n",
            "307\n"
          ]
        }
      ]
    },
    {
      "cell_type": "code",
      "source": [
        "def fun1 (x):\n",
        "  if x > 10:\n",
        "    return 15\n",
        "  return fun2 (x - 1) + 3\n",
        "\n",
        "def fun2 (x):\n",
        "  return 2 * fun3 (x + 20)\n",
        "\n",
        "def fun3 (x):\n",
        "  return fun1 (x - 15) // 3\n",
        "\n",
        "print (fun1 (5))    # 11\n",
        "\n",
        "\"\"\"\n",
        "fun1 (5) = fun2 (4) + 3 = 11\n",
        "fun2 (4) = 2 * fun3 (24) = 2 * 4 = 8\n",
        "fun3 (24) = fun1 (9) // 3 = 13 // 3 = 4\n",
        "fun1 (9) = fun2 (8) + 3 = 10 + 3 = 13\n",
        "fun2 (8) = 2 * fun3 (28) = 2 * 5 = 10\n",
        "fun3 (28) = fun1 (13) // 3 = 15 // 3 = 5\n",
        "fun1 (13) = 15\n",
        "# \"\"\"\n",
        "\n",
        "print (fun2 (8))    # 10\n",
        "print (fun1 (9))    # 13\n",
        "\n",
        "# For fun1, x = 13 is a base case, but x = 9 is not a base case\n",
        "# For fun2, x = 8 is a base case, but x = 4 is not a base case\n",
        "# For fun3, x = 28 is a base case, but x = 24 is not a base case"
      ],
      "metadata": {
        "id": "9Ot6CdhQrSSy",
        "colab": {
          "base_uri": "https://localhost:8080/"
        },
        "outputId": "830788c4-8a78-466b-9aa1-e69fbb7a4ea8"
      },
      "execution_count": null,
      "outputs": [
        {
          "output_type": "stream",
          "name": "stdout",
          "text": [
            "11\n",
            "10\n",
            "13\n"
          ]
        }
      ]
    },
    {
      "cell_type": "code",
      "source": [
        "def fun4 (lst):\n",
        "  if len (lst) == 0:\n",
        "    return 7\n",
        "  return lst[0] + fun4 (lst[1:])\n",
        "\n",
        "print (fun4 ([8, 1, 6, 3]))   # 25\n",
        "\n",
        "\"\"\"\n",
        "fun4 ([8, 1, 6, 3]) = 8 + fun4 ([1, 6, 3]) = 8 + 17 = 25\n",
        "fun4 ([1, 6, 3]) = 1 + fun4 ([6, 3]) = 1 + 16 = 17\n",
        "fun4 ([6, 3]) = 6 + fun4 ([3]) = 6 + 10 = 16\n",
        "fun4 ([3]) = 3 + fun4 ([]) = 3 + 7 = 10\n",
        "fun4 ([]) = 7\n",
        "\"\"\"\n",
        "\n",
        "box = [9, 9, 9,\n",
        "       9, 9, 9,\n",
        "       9, 9, 9]\n",
        "\n",
        "print (fun4 (box))      # 88"
      ],
      "metadata": {
        "colab": {
          "base_uri": "https://localhost:8080/"
        },
        "id": "H0Y6D7nD16Yw",
        "outputId": "6f3568ac-393f-43a7-fc26-b59c56484992"
      },
      "execution_count": null,
      "outputs": [
        {
          "output_type": "stream",
          "name": "stdout",
          "text": [
            "25\n",
            "88\n"
          ]
        }
      ]
    },
    {
      "cell_type": "code",
      "source": [
        "def fun5 (lst):\n",
        "  if len (lst) == 2:\n",
        "    return 7\n",
        "  return lst[0] + fun5 (lst[1:])\n",
        "\n",
        "print (fun5 ([8, 1, 6, 3]))   # 16\n",
        "\n",
        "box = [9, 9, 9,\n",
        "       9, 9, 9,\n",
        "       9, 9, 9]\n",
        "\n",
        "print (fun5 (box))      # 70"
      ],
      "metadata": {
        "colab": {
          "base_uri": "https://localhost:8080/"
        },
        "id": "_4gXL0QG5zEk",
        "outputId": "5f3be7b5-6d3a-448d-af68-3d1614e62406"
      },
      "execution_count": null,
      "outputs": [
        {
          "output_type": "stream",
          "name": "stdout",
          "text": [
            "16\n",
            "70\n"
          ]
        }
      ]
    },
    {
      "cell_type": "code",
      "source": [
        "def fun6 (lst, i = 0):\n",
        "  if i == len (lst):\n",
        "    return 7\n",
        "  return lst[0] + fun6 (lst, i + 1)\n",
        "\n",
        "print (fun6 ([8, 1, 6, 3]))   # 39"
      ],
      "metadata": {
        "colab": {
          "base_uri": "https://localhost:8080/"
        },
        "id": "sDg746_l69XM",
        "outputId": "d2f9175e-0e66-4069-f0fc-7ad2ef83669c"
      },
      "execution_count": null,
      "outputs": [
        {
          "output_type": "stream",
          "name": "stdout",
          "text": [
            "39\n"
          ]
        }
      ]
    },
    {
      "cell_type": "code",
      "source": [
        "def fun7 (lst, i = 0):\n",
        "  if i == len (lst):\n",
        "    return 7\n",
        "  return lst[i] + fun7 (lst, i + 1)\n",
        "\n",
        "print (fun7 ([8, 1, 6, 3]))   # 25\n",
        "\n",
        "\"\"\"\n",
        "lst = [8, 1, 6, 3], len (lst) = 4\n",
        "fun7 (lst, 0) = 8 + fun7 (lst, 1) = 8 + 17 = 25\n",
        "fun7 (lst, 1) = 1 + fun7 (lst, 2) = 1 + 16 = 17\n",
        "fun7 (lst, 2) = 6 + fun7 (lst, 3) = 6 + 10 = 16\n",
        "fun7 (lst, 3) = 3 + fun7 (lst, 4) = 3 + 7 = 10\n",
        "fun7 (lst, 4) = 7\n",
        "\"\"\"\n",
        "\n",
        "box = [9, 9, 9,\n",
        "       9, 9, 9,\n",
        "       9, 9, 9]\n",
        "\n",
        "print (fun7 (box))      # 88"
      ],
      "metadata": {
        "colab": {
          "base_uri": "https://localhost:8080/"
        },
        "id": "CmW7wVEw82Us",
        "outputId": "4476447f-cbc2-467c-ed20-71eba4e2bf20"
      },
      "execution_count": null,
      "outputs": [
        {
          "output_type": "stream",
          "name": "stdout",
          "text": [
            "25\n",
            "88\n"
          ]
        }
      ]
    },
    {
      "cell_type": "code",
      "source": [
        "def fun8 (lst, i = 0):\n",
        "  if i == 2:\n",
        "    return 7\n",
        "  return lst[i] + fun8 (lst, i + 1)\n",
        "\n",
        "print (fun8 ([8, 1, 6, 3]))   # 16\n",
        "\n",
        "\"\"\"\n",
        "lst = [8, 1, 6, 3], len (lst) = 4\n",
        "fun8 (lst, 0) = 8 + fun8 (lst, 1) = 8 + 8 = 16\n",
        "fun8 (lst, 1) = 1 + fun8 (lst, 2) = 1 + 7 = 8\n",
        "fun8 (lst, 2) = 7\n",
        "\"\"\"\n",
        "\n",
        "box = [9, 9, 9,\n",
        "       9, 9, 9,\n",
        "       9, 9, 9]\n",
        "\n",
        "print (fun8 (box))      # 25"
      ],
      "metadata": {
        "colab": {
          "base_uri": "https://localhost:8080/"
        },
        "id": "sxqoi48D98mC",
        "outputId": "aef42d47-4691-4255-b222-1c6b8cec2ec9"
      },
      "execution_count": null,
      "outputs": [
        {
          "output_type": "stream",
          "name": "stdout",
          "text": [
            "16\n",
            "25\n"
          ]
        }
      ]
    }
  ]
}