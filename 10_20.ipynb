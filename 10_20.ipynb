{
  "nbformat": 4,
  "nbformat_minor": 0,
  "metadata": {
    "colab": {
      "provenance": [],
      "include_colab_link": true
    },
    "kernelspec": {
      "name": "python3",
      "display_name": "Python 3"
    },
    "language_info": {
      "name": "python"
    }
  },
  "cells": [
    {
      "cell_type": "markdown",
      "metadata": {
        "id": "view-in-github",
        "colab_type": "text"
      },
      "source": [
        "<a href=\"https://colab.research.google.com/github/sazzy438/Class_Notes/blob/main/10_20.ipynb\" target=\"_parent\"><img src=\"https://colab.research.google.com/assets/colab-badge.svg\" alt=\"Open In Colab\"/></a>"
      ]
    },
    {
      "cell_type": "code",
      "execution_count": null,
      "metadata": {
        "id": "RJKc8ybAVfdx"
      },
      "outputs": [],
      "source": [
        "# Data Structures: Array and Linked List\n",
        "# Array: Static vs Dynamic\n",
        "# Linked List: Singly-Linked vs Doubly-Linked\n",
        "\n",
        "# Abstract Data Type (ADT)\n",
        "# An ADT describes what objectives need to be achieved\n",
        "# with how we store the data\n",
        "\n",
        "# e.g., the Max-Priority Queue ADT: I want to be able to\n",
        "# add elements, where element has some priority value\n",
        "# and I want to be able to view and/or remove the element\n",
        "# with the largest priority\n",
        "# We do not cover the Max Priority Queue ADT until after midterm"
      ]
    },
    {
      "cell_type": "code",
      "source": [
        "# Stack ADT: I want to be able to add elements, and I want\n",
        "# to be able to view and/or remove the latest element that\n",
        "# was added\n",
        "# This behavior can be referred to as LIFO (Last-In-First-Out)\n",
        "\n",
        "# Technically, the Stack ADT contains four operations:\n",
        "# - push (x): add an element x to the (top of the) stack\n",
        "# - pop (): remove and return the latest-inserted element (from the top)\n",
        "# - peek (): return the latest-inserted element (from the top)\n",
        "# - isEmpty (): check if the stack is empty or not"
      ],
      "metadata": {
        "id": "LeSTmBvEd3eM"
      },
      "execution_count": null,
      "outputs": []
    },
    {
      "cell_type": "code",
      "source": [
        "stk = Stack ()\n",
        "stk.push (3)\n",
        "stk.push (5)\n",
        "stk.push (18)\n",
        "print (stk.peek ())   # 18\n",
        "print (stk.peek ())   # 18\n",
        "stk.pop ()\n",
        "print (stk.peek ())   # 5\n",
        "print (stk.pop ())    # 5\n",
        "print (stk.peek ())   # 3\n",
        "stk.push (79)\n",
        "print (stk.peek ())   # 79\n",
        "print (stk.pop ())    # 79\n",
        "print (stk.isEmpty ())    # False\n",
        "print (stk.peek ())   # 3\n",
        "print (stk.pop ())    # 3\n",
        "print (stk.isEmpty ())    # True"
      ],
      "metadata": {
        "colab": {
          "base_uri": "https://localhost:8080/"
        },
        "id": "-qEX2IP-hg2Z",
        "outputId": "9e7a4171-9974-4607-f3ed-f898a9029fe4"
      },
      "execution_count": null,
      "outputs": [
        {
          "output_type": "stream",
          "name": "stdout",
          "text": [
            "18\n",
            "18\n",
            "5\n",
            "5\n",
            "3\n",
            "79\n",
            "79\n",
            "False\n",
            "3\n",
            "3\n",
            "True\n"
          ]
        }
      ]
    },
    {
      "cell_type": "code",
      "source": [
        "stk2 = Stack ()\n",
        "for i in range (58):\n",
        "  stk2.push (-i)\n",
        "\n",
        "print (stk2.peek ())    # -57\n",
        "stk2.pop ()\n",
        "stk2.pop ()\n",
        "print (stk2.pop ())     # -55\n",
        "print (stk2.peek ())    # -54"
      ],
      "metadata": {
        "colab": {
          "base_uri": "https://localhost:8080/"
        },
        "id": "wQBStlN8iqVf",
        "outputId": "ba516819-f378-4c78-afb5-e5e0f7395259"
      },
      "execution_count": null,
      "outputs": [
        {
          "output_type": "stream",
          "name": "stdout",
          "text": [
            "-57\n",
            "-55\n",
            "-54\n"
          ]
        }
      ]
    },
    {
      "cell_type": "code",
      "source": [
        "# Queue ADT: I want to be able to add elements, and I want\n",
        "# to be able to view and/or remove the earliest element that\n",
        "# was added\n",
        "# This behavior can be referred to as FIFO (First-In-First-Out)\n",
        "\n",
        "# Technically, the Queue ADT contains four operations:\n",
        "# - enqueue (x): add an element x to the (back of the) queue\n",
        "# - dequeue (): remove and return the earliest-inserted element (from the front)\n",
        "# - peek (): return the earliest-inserted element (from the front)\n",
        "# - isEmpty (): check if the queue is empty or not"
      ],
      "metadata": {
        "id": "Fe2ni_v3jmQi"
      },
      "execution_count": null,
      "outputs": []
    },
    {
      "cell_type": "code",
      "source": [
        "q = Queue ()\n",
        "q.enqueue (43)\n",
        "q.enqueue (21)\n",
        "q.enqueue (74)\n",
        "print (q.peek ())       # 43\n",
        "print (q.dequeue ())    # 43\n",
        "print (q.peek ())       # 21\n",
        "q.enqueue (55)\n",
        "print (q.peek ())       # 21\n",
        "q.dequeue ()\n",
        "print (q.isEmpty ())    # False\n",
        "print (q.dequeue ())    # 74\n",
        "print (q.peek ())       # 55\n",
        "print (q.dequeue ())    # 55\n",
        "print (q.isEmpty ())    # True"
      ],
      "metadata": {
        "colab": {
          "base_uri": "https://localhost:8080/"
        },
        "id": "gF4IUR2WlJCD",
        "outputId": "8831dff9-35d1-40ef-c3ba-7ad30f002f4c"
      },
      "execution_count": null,
      "outputs": [
        {
          "output_type": "stream",
          "name": "stdout",
          "text": [
            "43\n",
            "43\n",
            "21\n",
            "21\n",
            "False\n",
            "74\n",
            "55\n",
            "55\n",
            "True\n"
          ]
        }
      ]
    },
    {
      "cell_type": "code",
      "source": [
        "q2 = Queue ()\n",
        "for i in range (31):\n",
        "  q2.enqueue (-i)\n",
        "\n",
        "print (q2.peek ())    # 0\n",
        "q2.dequeue ()\n",
        "q2.dequeue ()\n",
        "print (q2.dequeue ())   # -2\n",
        "print (q2.peek ())      # -3"
      ],
      "metadata": {
        "colab": {
          "base_uri": "https://localhost:8080/"
        },
        "id": "kQB_sRC8mMI_",
        "outputId": "06a17255-23c3-4f9e-c43f-e21a50212f5a"
      },
      "execution_count": null,
      "outputs": [
        {
          "output_type": "stream",
          "name": "stdout",
          "text": [
            "0\n",
            "-2\n",
            "-3\n"
          ]
        }
      ]
    },
    {
      "cell_type": "code",
      "source": [
        "# We are implementing the Stack and Queue for testing purposes\n",
        "# However, in general, you cannot assume that Stack/Queue\n",
        "# are implemented in this manner\n",
        "\n",
        "class SLLNode:\n",
        "  def __init__ (self, dt, nx = None):\n",
        "    self.data = dt\n",
        "    self.next = nx\n",
        "\n",
        "class SinglyLinkedListWithTail:\n",
        "  def __init__ (self):\n",
        "    self.head = None    # Mandatory Field\n",
        "    self.tail = None    # Optional, but adding this improves the LL significantly\n",
        "    # tail refers to the LAST node of the LL\n",
        "    # if the LL is empty, then tail is None (just like head)\n",
        "    self.size = 0       # Optional, but allows us to easily determine LL size\n",
        "\n",
        "  def appendleft (self, x):\n",
        "    if self.head == None:\n",
        "      newnd = SLLNode (x)\n",
        "      self.head = newnd\n",
        "      self.tail = newnd   # newnd is both the first AND last node now\n",
        "    else:         # no change for the non-empty case\n",
        "      newnd = SLLNode (x)\n",
        "      newnd.next = self.head\n",
        "      self.head = newnd\n",
        "    self.size += 1    # update size\n",
        "\n",
        "  def popleft (self):\n",
        "    self.head = self.head.next\n",
        "    if self.head == None:   # if the LL became empty\n",
        "      self.tail = None      # tail should also be None\n",
        "    self.size -= 1    # update size\n",
        "\n",
        "  def appendafter (self, nd, x):\n",
        "    newnd = SLLNode (x)\n",
        "    newnd.next = nd.next\n",
        "    nd.next = newnd\n",
        "\n",
        "    if newnd.next == None:    # if the new node becomes the last node\n",
        "      self.tail = newnd       # update tail\n",
        "\n",
        "    self.size += 1    # update size\n",
        "\n",
        "  def popafter (self, nd):\n",
        "    nd.next = nd.next.next\n",
        "    if nd.next == None:       # if nd becomes the last node\n",
        "      self.tail = nd          # update tail\n",
        "\n",
        "    self.size -= 1    # update size\n",
        "\n",
        "  # add an element with data x to the end\n",
        "  def appendright (self, x):\n",
        "    if self.head == None:   # LL is empty\n",
        "      self.appendleft (x)   # appendright is the appendleft then\n",
        "    else:\n",
        "      self.appendafter (self.tail, x)\n",
        "\n",
        "  def checkindex (self, idx):   # no change\n",
        "    curr = self.head\n",
        "    for i in range (idx):\n",
        "      curr = curr.next\n",
        "    return curr\n",
        "\n",
        "  \"\"\"General Template to iterate over a Linked List (Singly/Doubly)\n",
        "  curr = self.head\n",
        "  while curr != None:\n",
        "    # do something with curr\n",
        "    curr = curr.next\n",
        "  # \"\"\"\n",
        "\n",
        "  def __str__ (self):\n",
        "    ans = \"\"\n",
        "    curr = self.head\n",
        "    while curr != None:\n",
        "      ans += str (curr.data) + \" -> \"\n",
        "      curr = curr.next\n",
        "    ans += \"; HEAD = \" + str (self.head.data)\n",
        "    ans += \", TAIL = \" + str (self.tail.data)\n",
        "    return ans\n",
        "\n",
        "class Stack:\n",
        "  def __init__ (self):\n",
        "    self.sll = SinglyLinkedListWithTail ()\n",
        "\n",
        "  # with SLL, we can appendleft, appendright, and popleft\n",
        "  # the top of the stack corresponds to the left side of the\n",
        "  # SLL, and the bottom of the stack corresponds to the right\n",
        "  # side of the SLL\n",
        "\n",
        "  def push (self, x):\n",
        "    self.sll.appendleft (x)\n",
        "\n",
        "  def peek (self):\n",
        "    return self.sll.head.data\n",
        "\n",
        "  def pop (self):\n",
        "    ans = self.sll.head.data\n",
        "    self.sll.popleft ()\n",
        "    return ans\n",
        "\n",
        "  def isEmpty (self):\n",
        "    #return self.sll.head == None\n",
        "    if self.sll.head == None:\n",
        "      return True\n",
        "    else:\n",
        "      return False\n",
        "\n",
        "class Queue:\n",
        "  def __init__ (self):\n",
        "    self.sll = SinglyLinkedListWithTail ()\n",
        "\n",
        "  # with SLL, we can appendleft, appendright, and popleft\n",
        "  # the front of the queue corresponds to the left of the\n",
        "  # SLL, and the back of the queue corresponds to the right\n",
        "  # of the SLL\n",
        "\n",
        "  def enqueue (self, x):\n",
        "    self.sll.appendright (x)\n",
        "\n",
        "  def peek (self):\n",
        "    return self.sll.head.data\n",
        "\n",
        "  def dequeue (self):\n",
        "    ans = self.sll.head.data\n",
        "    self.sll.popleft ()\n",
        "    return ans\n",
        "\n",
        "  def isEmpty (self):\n",
        "    return self.sll.head == None"
      ],
      "metadata": {
        "id": "5upm-B3inpgF"
      },
      "execution_count": null,
      "outputs": []
    },
    {
      "cell_type": "code",
      "source": [
        "# Given a stack stk, return the stack\n",
        "# with the same elements, except the\n",
        "# third element from the top is\n",
        "# removed\n",
        "\n",
        "def remove3rdstack (stk):\n",
        "  a = stk.pop ()\n",
        "  b = stk.pop ()\n",
        "  stk.pop ()\n",
        "  stk.push (b)\n",
        "  stk.push (a)\n",
        "  return stk\n",
        "\n",
        "stk1 = Stack ()\n",
        "stk1.push (2)\n",
        "stk1.push (8)\n",
        "stk1.push (1)\n",
        "stk1.push (9)\n",
        "stk1.push (4)\n",
        "stk1.push (7)\n",
        "stk1.push (5)\n",
        "\n",
        "print (stk1.sll)\n",
        "stk1 = remove3rdstack (stk1)\n",
        "print (stk1.sll)"
      ],
      "metadata": {
        "colab": {
          "base_uri": "https://localhost:8080/"
        },
        "id": "RxlmTeVQwJLT",
        "outputId": "f31b1a5d-e41c-4e9a-927d-0cc5fa4b19e7"
      },
      "execution_count": null,
      "outputs": [
        {
          "output_type": "stream",
          "name": "stdout",
          "text": [
            "5 -> 7 -> 4 -> 9 -> 1 -> 8 -> 2 -> ; HEAD = 5, TAIL = 2\n",
            "5 -> 7 -> 9 -> 1 -> 8 -> 2 -> ; HEAD = 5, TAIL = 2\n"
          ]
        }
      ]
    },
    {
      "cell_type": "code",
      "source": [
        "# Given a queue q, return the queue\n",
        "# with the same elements, except the\n",
        "# third element from the front is\n",
        "# removed\n",
        "\n",
        "def remove3rdqueue (q):\n",
        "  a = q.dequeue ()\n",
        "  b = q.dequeue ()\n",
        "  q.dequeue ()\n",
        "  q2 = Queue ()\n",
        "  q2.enqueue (a)\n",
        "  q2.enqueue (b)\n",
        "\n",
        "  while not q.isEmpty():\n",
        "    q2.enqueue (q.dequeue ())\n",
        "\n",
        "  return q2\n"
      ],
      "metadata": {
        "id": "WzUML-i7yLDp"
      },
      "execution_count": null,
      "outputs": []
    },
    {
      "cell_type": "code",
      "source": [
        "q = Queue ()\n",
        "q.enqueue (5)\n",
        "q.enqueue (7)\n",
        "q.enqueue (4)\n",
        "q.enqueue (9)\n",
        "q.enqueue (1)\n",
        "q.enqueue (8)\n",
        "q.enqueue (2)\n",
        "\n",
        "print (q.sll)\n",
        "q = remove3rdqueue (q)\n",
        "print (q.sll)"
      ],
      "metadata": {
        "colab": {
          "base_uri": "https://localhost:8080/"
        },
        "id": "SkxCrM8F1ljW",
        "outputId": "0147e386-627a-4287-a012-0d6bf232ed53"
      },
      "execution_count": null,
      "outputs": [
        {
          "output_type": "stream",
          "name": "stdout",
          "text": [
            "5 -> 7 -> 4 -> 9 -> 1 -> 8 -> 2 -> ; HEAD = 5, TAIL = 2\n",
            "5 -> 7 -> 9 -> 1 -> 8 -> 2 -> ; HEAD = 5, TAIL = 2\n"
          ]
        }
      ]
    },
    {
      "cell_type": "code",
      "source": [
        "# Autumn 23 Q3a\n",
        "sll = SinglyLinkedList ()\n",
        "sll.head = Node (50)\n",
        "for elem in lst:\n",
        "  nd = Node (elem)\n",
        "  if elem < sll.head.data:\n",
        "    nd.next = sll.head\n",
        "    sll.head = nd\n",
        "  else:\n",
        "    nd.next = sll.head.next\n",
        "    sll.head.next = nd\n",
        "\n",
        "lst = [23]    # 23, 50\n",
        "lst = [18, 18, 18, 18]  # 18, 18, 18, 18, 50\n",
        "lst = [42, 36, 27, 12]  # 12, 27, 36, 42, 50\n",
        "lst = [61, 13, 25, 76, 42]  # 13, 42, 76, 25, 50, 61\n",
        "lst = [94, 81, 32, 20, 47]  # 20, 47, 32, 50, 81, 94"
      ],
      "metadata": {
        "id": "UfUFZaAQ5gfE"
      },
      "execution_count": null,
      "outputs": []
    }
  ]
}